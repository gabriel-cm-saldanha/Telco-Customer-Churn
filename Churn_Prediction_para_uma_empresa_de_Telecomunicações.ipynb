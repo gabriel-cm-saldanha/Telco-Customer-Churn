{
  "nbformat": 4,
  "nbformat_minor": 0,
  "metadata": {
    "colab": {
      "provenance": [],
      "include_colab_link": true
    },
    "kernelspec": {
      "name": "python3",
      "display_name": "Python 3"
    }
  },
  "cells": [
    {
      "cell_type": "markdown",
      "metadata": {
        "id": "view-in-github",
        "colab_type": "text"
      },
      "source": [
        "<a href=\"https://colab.research.google.com/github/gabriel-cm-saldanha/Telco-Customer-Churn/blob/main/Churn_Prediction_para_uma_empresa_de_Telecomunica%C3%A7%C3%B5es.ipynb\" target=\"_parent\"><img src=\"https://colab.research.google.com/assets/colab-badge.svg\" alt=\"Open In Colab\"/></a>"
      ]
    },
    {
      "cell_type": "markdown",
      "metadata": {
        "id": "IR56trFcPcC1"
      },
      "source": [
        "# Churn Prediction\n",
        "\n",
        "*Churn rate*, ou simplesmente *churn*, representa a taxa de evasão da sua base de clientes. Em serviços como Spotify ou Netflix, ela representaria a taxa de cancelamento de assinaturas.\n",
        "\n",
        "<p align=center>\n",
        "<img src=\"https://raw.githubusercontent.com/carlosfab/dsnp2/master/img/churnrate.jpg\" width=\"60%\"></p>\n",
        "\n",
        "Ela é de extrema importância para a administração e sua análise ao longo do tempo pode mostrar que existe algum problema que deve ser atacado.\n",
        "\n",
        "*Churn* também pode ser usado para identificar potenciais cancelamentos, com um tempo de antecedência, e promover ações direcionadas para tentar reter tais clientes. Essa métrica deve receber atenção pelo fato de que o Custo de Aquisição de Cliente (CAC) é normalmente mais alto que o custo para mantê-los. Ou seja, um alto valor para o *churn rate* é o que não desejamos."
      ]
    },
    {
      "cell_type": "markdown",
      "source": [
        "### Sobre as Features:"
      ],
      "metadata": {
        "id": "JQstDh8TTzsi"
      }
    },
    {
      "cell_type": "markdown",
      "source": [
        "\n",
        "\n",
        "* CustomerID: Uma identificação única que identifica cada cliente.\n",
        "\n",
        "* Gender: O gênero do cliente: Masculino, Feminino.\n",
        "\n",
        "* Senior Citizen: Indica se o cliente tem 65 anos ou mais: Sim, Não.\n",
        "\n",
        "* Partner: Indica se o cliente tem um parceiro: Sim, Não.\n",
        "\n",
        "* Dependents: Indica se o cliente vive com dependentes: Sim, Não. Os dependentes podem ser filhos, pais, avós, etc.\n",
        "\n",
        "* Tenure Months: Indica o total de meses que o cliente está com a empresa até o final do trimestre especificado acima.\n",
        "\n",
        "* Phone Service: Indica se o cliente assina o serviço de telefone residencial com a empresa: Sim, Não.\n",
        "\n",
        "* Multiple Lines: Indica se o cliente assina várias linhas telefônicas com a empresa: Sim, Não.\n",
        "\n",
        "* Internet Service: Indica se o cliente assina o serviço de Internet com a empresa: Não, DSL, Fibra Óptica, Cabo.\n",
        "\n",
        "* Online Security: Indica se o cliente assina um serviço adicional de segurança online fornecido pela empresa: Sim, Não.\n",
        "\n",
        "* Online Backup: Indica se o cliente assina um serviço adicional de backup online fornecido pela empresa: Sim, Não.\n",
        "\n",
        "* Device Protection: Indica se o cliente assina um plano adicional de proteção de dispositivos para seus equipamentos de Internet fornecidos pela empresa: Sim, Não.\n",
        "\n",
        "* Tech Support: Indica se o cliente assina um plano adicional de suporte técnico da empresa com tempos de espera reduzidos: Sim, Não.\n",
        "\n",
        "* Streaming TV: Indica se o cliente usa seu serviço de Internet para transmitir programas de televisão de um provedor terceirizado: Sim, Não. A empresa não cobra uma taxa adicional por este serviço.\n",
        "\n",
        "* Streaming Movies: Indica se o cliente usa seu serviço de Internet para transmitir filmes de um provedor terceirizado: Sim, Não. A empresa não cobra uma taxa adicional por este serviço.\n",
        "\n",
        "* Contract: Indica o tipo de contrato atual do cliente: Mensal, Um Ano, Dois Anos.\n",
        "\n",
        "* Paperless Billing: Indica se o cliente optou por faturamento sem papel: Sim, Não.\n",
        "\n",
        "* Payment Method: Indica como o cliente paga sua conta: Débito em Conta, Cartão de Crédito, Cheque Enviado.\n",
        "\n",
        "* Monthly Charge: Indica o valor total mensal atual cobrado ao cliente por todos os seus serviços com a empresa.\n",
        "\n",
        "* Total Charges: Indica o total de cobranças do cliente, calculado até o final do trimestre especificado acima.\n",
        "\n",
        "* Churn Label: Sim = o cliente deixou a empresa neste trimestre. Não = o cliente permaneceu com a empresa. Diretamente relacionado ao Churn Value.\n"
      ],
      "metadata": {
        "id": "2PhFjugs-nn9"
      }
    },
    {
      "cell_type": "markdown",
      "metadata": {
        "id": "0HVmpIxQWT4Y"
      },
      "source": [
        "## Aquisição dos Dados\n",
        "\n",
        "Os dados utilizados neste projeto foram originalmente disponibilizados na [plataforma de ensino da IBM Developer](https://community.ibm.com/community/user/businessanalytics/blogs/steven-macko/2019/07/11/telco-customer-churn-1113), e tratam de um problema típico de uma companhia de telecomunicações. O *dataset* completo pode ser encontrado [neste link](https://www.kaggle.com/datasets/yeanzc/telco-customer-churn-ibm-dataset?select=Telco_customer_churn.xlsx).\n",
        "\n",
        "Apesar de não haver informações explícitas disponíves, os nomes das colunas permitem um entendimento a respeito do problema."
      ]
    },
    {
      "cell_type": "code",
      "source": [
        "# importar os pacotes necessários\n",
        "import pandas as pd\n",
        "import numpy as np\n",
        "import matplotlib.pyplot as plt\n",
        "import seaborn as sns\n",
        "\n",
        "from sklearn.metrics import (\n",
        "                  accuracy_score,\n",
        "                  confusion_matrix,\n",
        "                  ConfusionMatrixDisplay,\n",
        "                  classification_report,\n",
        "                  roc_auc_score,\n",
        "                  roc_curve)\n",
        "from sklearn.preprocessing import (\n",
        "                  LabelEncoder,\n",
        "                  OneHotEncoder,\n",
        "                  StandardScaler)\n",
        "from sklearn.model_selection import train_test_split\n",
        "from sklearn.pipeline import make_pipeline\n",
        "from sklearn.model_selection import (\n",
        "                  GridSearchCV,\n",
        "                  cross_val_score,\n",
        "                  StratifiedKFold,\n",
        "                  RepeatedStratifiedKFold)\n",
        "\n",
        "from sklearn.svm import SVC\n",
        "from lightgbm import LGBMClassifier\n",
        "from sklearn.linear_model import SGDClassifier, LogisticRegression\n",
        "from sklearn.tree import DecisionTreeClassifier\n",
        "from xgboost import XGBClassifier\n",
        "from sklearn.ensemble import RandomForestClassifier\n",
        "\n",
        "%matplotlib inline\n",
        "plt.style.use(\"ggplot\")\n",
        "pd.set_option('display.max_columns',None)"
      ],
      "metadata": {
        "id": "ijy1L_UH6xrN",
        "colab": {
          "base_uri": "https://localhost:8080/"
        },
        "outputId": "b74e2d8e-7473-4fff-89a3-2003ab49cc05"
      },
      "execution_count": null,
      "outputs": [
        {
          "output_type": "stream",
          "name": "stderr",
          "text": [
            "/usr/local/lib/python3.10/dist-packages/dask/dataframe/__init__.py:42: FutureWarning: \n",
            "Dask dataframe query planning is disabled because dask-expr is not installed.\n",
            "\n",
            "You can install it with `pip install dask[dataframe]` or `conda install dask`.\n",
            "This will raise in a future version.\n",
            "\n",
            "  warnings.warn(msg, FutureWarning)\n"
          ]
        }
      ]
    },
    {
      "cell_type": "code",
      "source": [
        "# importar os dados\n",
        "DATA_PATH = \"https://raw.githubusercontent.com/gabriel-cm-saldanha/Telco-Customer-Churn/main/Telco_customer_churn.csv\"\n",
        "df = pd.read_csv(DATA_PATH)"
      ],
      "metadata": {
        "id": "9hXanr556zUF"
      },
      "execution_count": null,
      "outputs": []
    },
    {
      "cell_type": "markdown",
      "source": [
        "# Análise Exploratória\n"
      ],
      "metadata": {
        "id": "9AK4bnTu96K1"
      }
    },
    {
      "cell_type": "markdown",
      "source": [
        "## Análise Inicial\n",
        "Aqui iremos realizar uma análise inicial entendendo os tipos de dados que possuimos, a qualidade dos dados (se possui dados ausentes ou não), a distribuição dos dados através do método `describe` e em seguida vamos aprofundando mais a exploração dos dados."
      ],
      "metadata": {
        "id": "hbS7DUaMUBLg"
      }
    },
    {
      "cell_type": "markdown",
      "source": [
        "Ao analisar as 5 primeiras linhas, observamos a presença de diversas variáveis categóricas, o que indica que posteriomente teremos que efetuar um Encoder para essas colunas, transformando-as em variáveis numéricas para podermos trabalhar com nosso modelo de previsão.\n",
        "* Temos a coluna Churn (variável alvo), onde:\n",
        "  * No;\n",
        "  * Yes"
      ],
      "metadata": {
        "id": "zMlZl6Ql99Ws"
      }
    },
    {
      "cell_type": "code",
      "metadata": {
        "id": "oQ4bNy7udtEE",
        "colab": {
          "base_uri": "https://localhost:8080/",
          "height": 365
        },
        "outputId": "986b2ccf-6fc4-4b7c-be5c-21320ec37116"
      },
      "source": [
        "# ver as 5 primeiras entradas\n",
        "df.head()"
      ],
      "execution_count": null,
      "outputs": [
        {
          "output_type": "execute_result",
          "data": {
            "text/plain": [
              "   CustomerID  Count        Country       State         City  Zip Code  \\\n",
              "0  3668-QPYBK      1  United States  California  Los Angeles     90003   \n",
              "1  9237-HQITU      1  United States  California  Los Angeles     90005   \n",
              "2  9305-CDSKC      1  United States  California  Los Angeles     90006   \n",
              "3  7892-POOKP      1  United States  California  Los Angeles     90010   \n",
              "4  0280-XJGEX      1  United States  California  Los Angeles     90015   \n",
              "\n",
              "                 Lat Long   Latitude   Longitude  Gender Senior Citizen  \\\n",
              "0  33.964131, -118.272783  33.964131 -118.272783    Male             No   \n",
              "1   34.059281, -118.30742  34.059281 -118.307420  Female             No   \n",
              "2  34.048013, -118.293953  34.048013 -118.293953  Female             No   \n",
              "3  34.062125, -118.315709  34.062125 -118.315709  Female             No   \n",
              "4  34.039224, -118.266293  34.039224 -118.266293    Male             No   \n",
              "\n",
              "  Partner Dependents  Tenure Months Phone Service Multiple Lines  \\\n",
              "0      No         No              2           Yes             No   \n",
              "1      No        Yes              2           Yes             No   \n",
              "2      No        Yes              8           Yes            Yes   \n",
              "3     Yes        Yes             28           Yes            Yes   \n",
              "4      No        Yes             49           Yes            Yes   \n",
              "\n",
              "  Internet Service Online Security Online Backup Device Protection  \\\n",
              "0              DSL             Yes           Yes                No   \n",
              "1      Fiber optic              No            No                No   \n",
              "2      Fiber optic              No            No               Yes   \n",
              "3      Fiber optic              No            No               Yes   \n",
              "4      Fiber optic              No           Yes               Yes   \n",
              "\n",
              "  Tech Support Streaming TV Streaming Movies        Contract  \\\n",
              "0           No           No               No  Month-to-month   \n",
              "1           No           No               No  Month-to-month   \n",
              "2           No          Yes              Yes  Month-to-month   \n",
              "3          Yes          Yes              Yes  Month-to-month   \n",
              "4           No          Yes              Yes  Month-to-month   \n",
              "\n",
              "  Paperless Billing             Payment Method  Monthly Charges Total Charges  \\\n",
              "0               Yes               Mailed check            53.85        108.15   \n",
              "1               Yes           Electronic check            70.70        151.65   \n",
              "2               Yes           Electronic check            99.65         820.5   \n",
              "3               Yes           Electronic check           104.80       3046.05   \n",
              "4               Yes  Bank transfer (automatic)           103.70        5036.3   \n",
              "\n",
              "  Churn Label  Churn Value  Churn Score  CLTV                   Churn Reason  \n",
              "0         Yes            1           86  3239   Competitor made better offer  \n",
              "1         Yes            1           67  2701                          Moved  \n",
              "2         Yes            1           86  5372                          Moved  \n",
              "3         Yes            1           84  5003                          Moved  \n",
              "4         Yes            1           89  5340  Competitor had better devices  "
            ],
            "text/html": [
              "\n",
              "  <div id=\"df-01713c08-2bb3-45e0-bd9d-919b7c982183\" class=\"colab-df-container\">\n",
              "    <div>\n",
              "<style scoped>\n",
              "    .dataframe tbody tr th:only-of-type {\n",
              "        vertical-align: middle;\n",
              "    }\n",
              "\n",
              "    .dataframe tbody tr th {\n",
              "        vertical-align: top;\n",
              "    }\n",
              "\n",
              "    .dataframe thead th {\n",
              "        text-align: right;\n",
              "    }\n",
              "</style>\n",
              "<table border=\"1\" class=\"dataframe\">\n",
              "  <thead>\n",
              "    <tr style=\"text-align: right;\">\n",
              "      <th></th>\n",
              "      <th>CustomerID</th>\n",
              "      <th>Count</th>\n",
              "      <th>Country</th>\n",
              "      <th>State</th>\n",
              "      <th>City</th>\n",
              "      <th>Zip Code</th>\n",
              "      <th>Lat Long</th>\n",
              "      <th>Latitude</th>\n",
              "      <th>Longitude</th>\n",
              "      <th>Gender</th>\n",
              "      <th>Senior Citizen</th>\n",
              "      <th>Partner</th>\n",
              "      <th>Dependents</th>\n",
              "      <th>Tenure Months</th>\n",
              "      <th>Phone Service</th>\n",
              "      <th>Multiple Lines</th>\n",
              "      <th>Internet Service</th>\n",
              "      <th>Online Security</th>\n",
              "      <th>Online Backup</th>\n",
              "      <th>Device Protection</th>\n",
              "      <th>Tech Support</th>\n",
              "      <th>Streaming TV</th>\n",
              "      <th>Streaming Movies</th>\n",
              "      <th>Contract</th>\n",
              "      <th>Paperless Billing</th>\n",
              "      <th>Payment Method</th>\n",
              "      <th>Monthly Charges</th>\n",
              "      <th>Total Charges</th>\n",
              "      <th>Churn Label</th>\n",
              "      <th>Churn Value</th>\n",
              "      <th>Churn Score</th>\n",
              "      <th>CLTV</th>\n",
              "      <th>Churn Reason</th>\n",
              "    </tr>\n",
              "  </thead>\n",
              "  <tbody>\n",
              "    <tr>\n",
              "      <th>0</th>\n",
              "      <td>3668-QPYBK</td>\n",
              "      <td>1</td>\n",
              "      <td>United States</td>\n",
              "      <td>California</td>\n",
              "      <td>Los Angeles</td>\n",
              "      <td>90003</td>\n",
              "      <td>33.964131, -118.272783</td>\n",
              "      <td>33.964131</td>\n",
              "      <td>-118.272783</td>\n",
              "      <td>Male</td>\n",
              "      <td>No</td>\n",
              "      <td>No</td>\n",
              "      <td>No</td>\n",
              "      <td>2</td>\n",
              "      <td>Yes</td>\n",
              "      <td>No</td>\n",
              "      <td>DSL</td>\n",
              "      <td>Yes</td>\n",
              "      <td>Yes</td>\n",
              "      <td>No</td>\n",
              "      <td>No</td>\n",
              "      <td>No</td>\n",
              "      <td>No</td>\n",
              "      <td>Month-to-month</td>\n",
              "      <td>Yes</td>\n",
              "      <td>Mailed check</td>\n",
              "      <td>53.85</td>\n",
              "      <td>108.15</td>\n",
              "      <td>Yes</td>\n",
              "      <td>1</td>\n",
              "      <td>86</td>\n",
              "      <td>3239</td>\n",
              "      <td>Competitor made better offer</td>\n",
              "    </tr>\n",
              "    <tr>\n",
              "      <th>1</th>\n",
              "      <td>9237-HQITU</td>\n",
              "      <td>1</td>\n",
              "      <td>United States</td>\n",
              "      <td>California</td>\n",
              "      <td>Los Angeles</td>\n",
              "      <td>90005</td>\n",
              "      <td>34.059281, -118.30742</td>\n",
              "      <td>34.059281</td>\n",
              "      <td>-118.307420</td>\n",
              "      <td>Female</td>\n",
              "      <td>No</td>\n",
              "      <td>No</td>\n",
              "      <td>Yes</td>\n",
              "      <td>2</td>\n",
              "      <td>Yes</td>\n",
              "      <td>No</td>\n",
              "      <td>Fiber optic</td>\n",
              "      <td>No</td>\n",
              "      <td>No</td>\n",
              "      <td>No</td>\n",
              "      <td>No</td>\n",
              "      <td>No</td>\n",
              "      <td>No</td>\n",
              "      <td>Month-to-month</td>\n",
              "      <td>Yes</td>\n",
              "      <td>Electronic check</td>\n",
              "      <td>70.70</td>\n",
              "      <td>151.65</td>\n",
              "      <td>Yes</td>\n",
              "      <td>1</td>\n",
              "      <td>67</td>\n",
              "      <td>2701</td>\n",
              "      <td>Moved</td>\n",
              "    </tr>\n",
              "    <tr>\n",
              "      <th>2</th>\n",
              "      <td>9305-CDSKC</td>\n",
              "      <td>1</td>\n",
              "      <td>United States</td>\n",
              "      <td>California</td>\n",
              "      <td>Los Angeles</td>\n",
              "      <td>90006</td>\n",
              "      <td>34.048013, -118.293953</td>\n",
              "      <td>34.048013</td>\n",
              "      <td>-118.293953</td>\n",
              "      <td>Female</td>\n",
              "      <td>No</td>\n",
              "      <td>No</td>\n",
              "      <td>Yes</td>\n",
              "      <td>8</td>\n",
              "      <td>Yes</td>\n",
              "      <td>Yes</td>\n",
              "      <td>Fiber optic</td>\n",
              "      <td>No</td>\n",
              "      <td>No</td>\n",
              "      <td>Yes</td>\n",
              "      <td>No</td>\n",
              "      <td>Yes</td>\n",
              "      <td>Yes</td>\n",
              "      <td>Month-to-month</td>\n",
              "      <td>Yes</td>\n",
              "      <td>Electronic check</td>\n",
              "      <td>99.65</td>\n",
              "      <td>820.5</td>\n",
              "      <td>Yes</td>\n",
              "      <td>1</td>\n",
              "      <td>86</td>\n",
              "      <td>5372</td>\n",
              "      <td>Moved</td>\n",
              "    </tr>\n",
              "    <tr>\n",
              "      <th>3</th>\n",
              "      <td>7892-POOKP</td>\n",
              "      <td>1</td>\n",
              "      <td>United States</td>\n",
              "      <td>California</td>\n",
              "      <td>Los Angeles</td>\n",
              "      <td>90010</td>\n",
              "      <td>34.062125, -118.315709</td>\n",
              "      <td>34.062125</td>\n",
              "      <td>-118.315709</td>\n",
              "      <td>Female</td>\n",
              "      <td>No</td>\n",
              "      <td>Yes</td>\n",
              "      <td>Yes</td>\n",
              "      <td>28</td>\n",
              "      <td>Yes</td>\n",
              "      <td>Yes</td>\n",
              "      <td>Fiber optic</td>\n",
              "      <td>No</td>\n",
              "      <td>No</td>\n",
              "      <td>Yes</td>\n",
              "      <td>Yes</td>\n",
              "      <td>Yes</td>\n",
              "      <td>Yes</td>\n",
              "      <td>Month-to-month</td>\n",
              "      <td>Yes</td>\n",
              "      <td>Electronic check</td>\n",
              "      <td>104.80</td>\n",
              "      <td>3046.05</td>\n",
              "      <td>Yes</td>\n",
              "      <td>1</td>\n",
              "      <td>84</td>\n",
              "      <td>5003</td>\n",
              "      <td>Moved</td>\n",
              "    </tr>\n",
              "    <tr>\n",
              "      <th>4</th>\n",
              "      <td>0280-XJGEX</td>\n",
              "      <td>1</td>\n",
              "      <td>United States</td>\n",
              "      <td>California</td>\n",
              "      <td>Los Angeles</td>\n",
              "      <td>90015</td>\n",
              "      <td>34.039224, -118.266293</td>\n",
              "      <td>34.039224</td>\n",
              "      <td>-118.266293</td>\n",
              "      <td>Male</td>\n",
              "      <td>No</td>\n",
              "      <td>No</td>\n",
              "      <td>Yes</td>\n",
              "      <td>49</td>\n",
              "      <td>Yes</td>\n",
              "      <td>Yes</td>\n",
              "      <td>Fiber optic</td>\n",
              "      <td>No</td>\n",
              "      <td>Yes</td>\n",
              "      <td>Yes</td>\n",
              "      <td>No</td>\n",
              "      <td>Yes</td>\n",
              "      <td>Yes</td>\n",
              "      <td>Month-to-month</td>\n",
              "      <td>Yes</td>\n",
              "      <td>Bank transfer (automatic)</td>\n",
              "      <td>103.70</td>\n",
              "      <td>5036.3</td>\n",
              "      <td>Yes</td>\n",
              "      <td>1</td>\n",
              "      <td>89</td>\n",
              "      <td>5340</td>\n",
              "      <td>Competitor had better devices</td>\n",
              "    </tr>\n",
              "  </tbody>\n",
              "</table>\n",
              "</div>\n",
              "    <div class=\"colab-df-buttons\">\n",
              "\n",
              "  <div class=\"colab-df-container\">\n",
              "    <button class=\"colab-df-convert\" onclick=\"convertToInteractive('df-01713c08-2bb3-45e0-bd9d-919b7c982183')\"\n",
              "            title=\"Convert this dataframe to an interactive table.\"\n",
              "            style=\"display:none;\">\n",
              "\n",
              "  <svg xmlns=\"http://www.w3.org/2000/svg\" height=\"24px\" viewBox=\"0 -960 960 960\">\n",
              "    <path d=\"M120-120v-720h720v720H120Zm60-500h600v-160H180v160Zm220 220h160v-160H400v160Zm0 220h160v-160H400v160ZM180-400h160v-160H180v160Zm440 0h160v-160H620v160ZM180-180h160v-160H180v160Zm440 0h160v-160H620v160Z\"/>\n",
              "  </svg>\n",
              "    </button>\n",
              "\n",
              "  <style>\n",
              "    .colab-df-container {\n",
              "      display:flex;\n",
              "      gap: 12px;\n",
              "    }\n",
              "\n",
              "    .colab-df-convert {\n",
              "      background-color: #E8F0FE;\n",
              "      border: none;\n",
              "      border-radius: 50%;\n",
              "      cursor: pointer;\n",
              "      display: none;\n",
              "      fill: #1967D2;\n",
              "      height: 32px;\n",
              "      padding: 0 0 0 0;\n",
              "      width: 32px;\n",
              "    }\n",
              "\n",
              "    .colab-df-convert:hover {\n",
              "      background-color: #E2EBFA;\n",
              "      box-shadow: 0px 1px 2px rgba(60, 64, 67, 0.3), 0px 1px 3px 1px rgba(60, 64, 67, 0.15);\n",
              "      fill: #174EA6;\n",
              "    }\n",
              "\n",
              "    .colab-df-buttons div {\n",
              "      margin-bottom: 4px;\n",
              "    }\n",
              "\n",
              "    [theme=dark] .colab-df-convert {\n",
              "      background-color: #3B4455;\n",
              "      fill: #D2E3FC;\n",
              "    }\n",
              "\n",
              "    [theme=dark] .colab-df-convert:hover {\n",
              "      background-color: #434B5C;\n",
              "      box-shadow: 0px 1px 3px 1px rgba(0, 0, 0, 0.15);\n",
              "      filter: drop-shadow(0px 1px 2px rgba(0, 0, 0, 0.3));\n",
              "      fill: #FFFFFF;\n",
              "    }\n",
              "  </style>\n",
              "\n",
              "    <script>\n",
              "      const buttonEl =\n",
              "        document.querySelector('#df-01713c08-2bb3-45e0-bd9d-919b7c982183 button.colab-df-convert');\n",
              "      buttonEl.style.display =\n",
              "        google.colab.kernel.accessAllowed ? 'block' : 'none';\n",
              "\n",
              "      async function convertToInteractive(key) {\n",
              "        const element = document.querySelector('#df-01713c08-2bb3-45e0-bd9d-919b7c982183');\n",
              "        const dataTable =\n",
              "          await google.colab.kernel.invokeFunction('convertToInteractive',\n",
              "                                                    [key], {});\n",
              "        if (!dataTable) return;\n",
              "\n",
              "        const docLinkHtml = 'Like what you see? Visit the ' +\n",
              "          '<a target=\"_blank\" href=https://colab.research.google.com/notebooks/data_table.ipynb>data table notebook</a>'\n",
              "          + ' to learn more about interactive tables.';\n",
              "        element.innerHTML = '';\n",
              "        dataTable['output_type'] = 'display_data';\n",
              "        await google.colab.output.renderOutput(dataTable, element);\n",
              "        const docLink = document.createElement('div');\n",
              "        docLink.innerHTML = docLinkHtml;\n",
              "        element.appendChild(docLink);\n",
              "      }\n",
              "    </script>\n",
              "  </div>\n",
              "\n",
              "\n",
              "<div id=\"df-7cb24afa-4fa8-4393-8274-50f80b324676\">\n",
              "  <button class=\"colab-df-quickchart\" onclick=\"quickchart('df-7cb24afa-4fa8-4393-8274-50f80b324676')\"\n",
              "            title=\"Suggest charts\"\n",
              "            style=\"display:none;\">\n",
              "\n",
              "<svg xmlns=\"http://www.w3.org/2000/svg\" height=\"24px\"viewBox=\"0 0 24 24\"\n",
              "     width=\"24px\">\n",
              "    <g>\n",
              "        <path d=\"M19 3H5c-1.1 0-2 .9-2 2v14c0 1.1.9 2 2 2h14c1.1 0 2-.9 2-2V5c0-1.1-.9-2-2-2zM9 17H7v-7h2v7zm4 0h-2V7h2v10zm4 0h-2v-4h2v4z\"/>\n",
              "    </g>\n",
              "</svg>\n",
              "  </button>\n",
              "\n",
              "<style>\n",
              "  .colab-df-quickchart {\n",
              "      --bg-color: #E8F0FE;\n",
              "      --fill-color: #1967D2;\n",
              "      --hover-bg-color: #E2EBFA;\n",
              "      --hover-fill-color: #174EA6;\n",
              "      --disabled-fill-color: #AAA;\n",
              "      --disabled-bg-color: #DDD;\n",
              "  }\n",
              "\n",
              "  [theme=dark] .colab-df-quickchart {\n",
              "      --bg-color: #3B4455;\n",
              "      --fill-color: #D2E3FC;\n",
              "      --hover-bg-color: #434B5C;\n",
              "      --hover-fill-color: #FFFFFF;\n",
              "      --disabled-bg-color: #3B4455;\n",
              "      --disabled-fill-color: #666;\n",
              "  }\n",
              "\n",
              "  .colab-df-quickchart {\n",
              "    background-color: var(--bg-color);\n",
              "    border: none;\n",
              "    border-radius: 50%;\n",
              "    cursor: pointer;\n",
              "    display: none;\n",
              "    fill: var(--fill-color);\n",
              "    height: 32px;\n",
              "    padding: 0;\n",
              "    width: 32px;\n",
              "  }\n",
              "\n",
              "  .colab-df-quickchart:hover {\n",
              "    background-color: var(--hover-bg-color);\n",
              "    box-shadow: 0 1px 2px rgba(60, 64, 67, 0.3), 0 1px 3px 1px rgba(60, 64, 67, 0.15);\n",
              "    fill: var(--button-hover-fill-color);\n",
              "  }\n",
              "\n",
              "  .colab-df-quickchart-complete:disabled,\n",
              "  .colab-df-quickchart-complete:disabled:hover {\n",
              "    background-color: var(--disabled-bg-color);\n",
              "    fill: var(--disabled-fill-color);\n",
              "    box-shadow: none;\n",
              "  }\n",
              "\n",
              "  .colab-df-spinner {\n",
              "    border: 2px solid var(--fill-color);\n",
              "    border-color: transparent;\n",
              "    border-bottom-color: var(--fill-color);\n",
              "    animation:\n",
              "      spin 1s steps(1) infinite;\n",
              "  }\n",
              "\n",
              "  @keyframes spin {\n",
              "    0% {\n",
              "      border-color: transparent;\n",
              "      border-bottom-color: var(--fill-color);\n",
              "      border-left-color: var(--fill-color);\n",
              "    }\n",
              "    20% {\n",
              "      border-color: transparent;\n",
              "      border-left-color: var(--fill-color);\n",
              "      border-top-color: var(--fill-color);\n",
              "    }\n",
              "    30% {\n",
              "      border-color: transparent;\n",
              "      border-left-color: var(--fill-color);\n",
              "      border-top-color: var(--fill-color);\n",
              "      border-right-color: var(--fill-color);\n",
              "    }\n",
              "    40% {\n",
              "      border-color: transparent;\n",
              "      border-right-color: var(--fill-color);\n",
              "      border-top-color: var(--fill-color);\n",
              "    }\n",
              "    60% {\n",
              "      border-color: transparent;\n",
              "      border-right-color: var(--fill-color);\n",
              "    }\n",
              "    80% {\n",
              "      border-color: transparent;\n",
              "      border-right-color: var(--fill-color);\n",
              "      border-bottom-color: var(--fill-color);\n",
              "    }\n",
              "    90% {\n",
              "      border-color: transparent;\n",
              "      border-bottom-color: var(--fill-color);\n",
              "    }\n",
              "  }\n",
              "</style>\n",
              "\n",
              "  <script>\n",
              "    async function quickchart(key) {\n",
              "      const quickchartButtonEl =\n",
              "        document.querySelector('#' + key + ' button');\n",
              "      quickchartButtonEl.disabled = true;  // To prevent multiple clicks.\n",
              "      quickchartButtonEl.classList.add('colab-df-spinner');\n",
              "      try {\n",
              "        const charts = await google.colab.kernel.invokeFunction(\n",
              "            'suggestCharts', [key], {});\n",
              "      } catch (error) {\n",
              "        console.error('Error during call to suggestCharts:', error);\n",
              "      }\n",
              "      quickchartButtonEl.classList.remove('colab-df-spinner');\n",
              "      quickchartButtonEl.classList.add('colab-df-quickchart-complete');\n",
              "    }\n",
              "    (() => {\n",
              "      let quickchartButtonEl =\n",
              "        document.querySelector('#df-7cb24afa-4fa8-4393-8274-50f80b324676 button');\n",
              "      quickchartButtonEl.style.display =\n",
              "        google.colab.kernel.accessAllowed ? 'block' : 'none';\n",
              "    })();\n",
              "  </script>\n",
              "</div>\n",
              "\n",
              "    </div>\n",
              "  </div>\n"
            ],
            "application/vnd.google.colaboratory.intrinsic+json": {
              "type": "dataframe",
              "variable_name": "df"
            }
          },
          "metadata": {},
          "execution_count": 3
        }
      ]
    },
    {
      "cell_type": "code",
      "source": [
        "print(\"o dataset possui {} linhas e {} colunas\".format(df.shape[0], df.shape[1]))"
      ],
      "metadata": {
        "colab": {
          "base_uri": "https://localhost:8080/"
        },
        "id": "vrYjvbrZ6uid",
        "outputId": "84abc120-964c-487d-b926-564bb9e8f161"
      },
      "execution_count": null,
      "outputs": [
        {
          "output_type": "stream",
          "name": "stdout",
          "text": [
            "o dataset possui 7043 linhas e 33 colunas\n"
          ]
        }
      ]
    },
    {
      "cell_type": "markdown",
      "source": [
        "Verificamos que a única coluna que possui dados nulos é a `Churn Reason`, haja visto que os dados somente serão presentes nos clientes que deram **Churn**. Logo, é esperado que encontrassemos valores ausentes nessa coluna.\n",
        "\n",
        "\n",
        "Alguns pontos de atenção:\n",
        "* A coluna `Total Charges` deveria ser do tipo `float`, porém está como uma `string`\n",
        "  * Mais a frente iremos verificar como os valores estão distribuidos dentro dessa coluna;\n",
        "  * Se conseguiremos fazer uma conversão direta ou existe a necessidade de trabalhar esses dados;\n",
        "* Um grande número de variáveis categóricas\n",
        "  * Teremos que realizar uma codificação para valores numéricos"
      ],
      "metadata": {
        "id": "7FVw-kgI80FO"
      }
    },
    {
      "cell_type": "code",
      "source": [
        "df.info()"
      ],
      "metadata": {
        "colab": {
          "base_uri": "https://localhost:8080/"
        },
        "id": "WehrpKAE8cce",
        "outputId": "edcf3b9b-713f-40d6-84f6-fbd8d413decd"
      },
      "execution_count": null,
      "outputs": [
        {
          "output_type": "stream",
          "name": "stdout",
          "text": [
            "<class 'pandas.core.frame.DataFrame'>\n",
            "RangeIndex: 7043 entries, 0 to 7042\n",
            "Data columns (total 33 columns):\n",
            " #   Column             Non-Null Count  Dtype  \n",
            "---  ------             --------------  -----  \n",
            " 0   CustomerID         7043 non-null   object \n",
            " 1   Count              7043 non-null   int64  \n",
            " 2   Country            7043 non-null   object \n",
            " 3   State              7043 non-null   object \n",
            " 4   City               7043 non-null   object \n",
            " 5   Zip Code           7043 non-null   int64  \n",
            " 6   Lat Long           7043 non-null   object \n",
            " 7   Latitude           7043 non-null   float64\n",
            " 8   Longitude          7043 non-null   float64\n",
            " 9   Gender             7043 non-null   object \n",
            " 10  Senior Citizen     7043 non-null   object \n",
            " 11  Partner            7043 non-null   object \n",
            " 12  Dependents         7043 non-null   object \n",
            " 13  Tenure Months      7043 non-null   int64  \n",
            " 14  Phone Service      7043 non-null   object \n",
            " 15  Multiple Lines     7043 non-null   object \n",
            " 16  Internet Service   7043 non-null   object \n",
            " 17  Online Security    7043 non-null   object \n",
            " 18  Online Backup      7043 non-null   object \n",
            " 19  Device Protection  7043 non-null   object \n",
            " 20  Tech Support       7043 non-null   object \n",
            " 21  Streaming TV       7043 non-null   object \n",
            " 22  Streaming Movies   7043 non-null   object \n",
            " 23  Contract           7043 non-null   object \n",
            " 24  Paperless Billing  7043 non-null   object \n",
            " 25  Payment Method     7043 non-null   object \n",
            " 26  Monthly Charges    7043 non-null   float64\n",
            " 27  Total Charges      7043 non-null   object \n",
            " 28  Churn Label        7043 non-null   object \n",
            " 29  Churn Value        7043 non-null   int64  \n",
            " 30  Churn Score        7043 non-null   int64  \n",
            " 31  CLTV               7043 non-null   int64  \n",
            " 32  Churn Reason       1869 non-null   object \n",
            "dtypes: float64(3), int64(6), object(24)\n",
            "memory usage: 1.8+ MB\n"
          ]
        }
      ]
    },
    {
      "cell_type": "markdown",
      "source": [
        "Analisar valores unicos de cada coluna pode nos fornecer insight através de sua dimensionalidade.\n",
        "A coluna `CustomerID` não nos fornece nenhuma informação importante para o nosso modelo.\n",
        "\n",
        "Analisando a coluna `Country` e `State` também podemos remover.\n",
        "\n",
        "Variaveis como `Latidue`, `Longitude` e `Lat Long` podem ser relevantes para o modelo, pois podem haver regiões que tendem a ter um churn maior que outras regiões.\n",
        "\n",
        "Sobre a variavel `Zip Code`, optamos por remove-la devido a sua dimensionalidade.\n",
        "\n",
        "A variável `City` apresenta 1129 entradas, logo verificamos que existem erros nessa coluna, pois o Estado da Califórnia contem 482 localidades, enquanto nossa base nos fornece 1129 valores únicos, além da dimensionalidade."
      ],
      "metadata": {
        "id": "ouvE0L8rViAN"
      }
    },
    {
      "cell_type": "code",
      "source": [
        "print(\"Valores únicos (por coluna):\\n{}\\n\".format(df.nunique()))"
      ],
      "metadata": {
        "colab": {
          "base_uri": "https://localhost:8080/"
        },
        "id": "csohmRudR-vh",
        "outputId": "2c555d57-ceba-4de1-f070-104d461a4d98"
      },
      "execution_count": null,
      "outputs": [
        {
          "output_type": "stream",
          "name": "stdout",
          "text": [
            "Valores únicos (por coluna):\n",
            "CustomerID           7043\n",
            "Count                   1\n",
            "Country                 1\n",
            "State                   1\n",
            "City                 1129\n",
            "Zip Code             1652\n",
            "Lat Long             1652\n",
            "Latitude             1652\n",
            "Longitude            1651\n",
            "Gender                  2\n",
            "Senior Citizen          2\n",
            "Partner                 2\n",
            "Dependents              2\n",
            "Tenure Months          73\n",
            "Phone Service           2\n",
            "Multiple Lines          3\n",
            "Internet Service        3\n",
            "Online Security         3\n",
            "Online Backup           3\n",
            "Device Protection       3\n",
            "Tech Support            3\n",
            "Streaming TV            3\n",
            "Streaming Movies        3\n",
            "Contract                3\n",
            "Paperless Billing       2\n",
            "Payment Method          4\n",
            "Monthly Charges      1585\n",
            "Total Charges        6531\n",
            "Churn Label             2\n",
            "Churn Value             2\n",
            "Churn Score            85\n",
            "CLTV                 3438\n",
            "Churn Reason           20\n",
            "dtype: int64\n",
            "\n"
          ]
        }
      ]
    },
    {
      "cell_type": "code",
      "source": [
        "removed_columns = ['CustomerID','Count','Country','State', 'Churn Reason','Lat Long', 'City', 'Latitude', 'Longitude','Zip Code','Churn Label']\n",
        "df.drop(removed_columns, axis=1, inplace=True)"
      ],
      "metadata": {
        "id": "KxlHtJCA9Ull"
      },
      "execution_count": null,
      "outputs": []
    },
    {
      "cell_type": "markdown",
      "source": [
        "Agora vamos verificar a coluna `Total Charges`.\n",
        "\n",
        "Ao tentar utilizar *pd.to_numeric()* nos é informado um erro avisando que a coluna apresenta valores vazios, provavelmente preenchidos com espaço. Então, vamos utilizar o parâmetro *errors = coerce* no pandas para tratar e corrigir esses erros. Em seguida, vamos preencher os valores ausentes com a mediana."
      ],
      "metadata": {
        "id": "90LGjtacipYn"
      }
    },
    {
      "cell_type": "code",
      "source": [
        "df['Total Charges'] = pd.to_numeric(df['Total Charges'], errors='coerce')\n",
        "df['Total Charges'] = df['Total Charges'].fillna(df['Total Charges'].median())"
      ],
      "metadata": {
        "id": "ZT_DlDwxixQ6"
      },
      "execution_count": null,
      "outputs": []
    },
    {
      "cell_type": "markdown",
      "source": [
        "A função describe nos fornece um relatorio estatístico de todas as variveis numéricas do conjunto de dados.\n",
        "Aqui já conseguimos reunir algumas informações relevantes, como em `Tenure Months` onde 50% dos clientes ficam até 29 meses na empresa, 75% até 55 meses, com a mediana do valor mensal pago em U$ 70.35.\n",
        "\n",
        "Mais a frente iremos aprofundar mais a análise para entendermos como está a distribuição para os casos de *Churn* e *Não Churn*."
      ],
      "metadata": {
        "id": "oHHOjnY6EQY0"
      }
    },
    {
      "cell_type": "code",
      "source": [
        "df.describe()"
      ],
      "metadata": {
        "id": "_cKwvmxV_0sM",
        "colab": {
          "base_uri": "https://localhost:8080/",
          "height": 300
        },
        "outputId": "314d6cc0-babe-4fa6-9243-b6b563543730"
      },
      "execution_count": null,
      "outputs": [
        {
          "output_type": "execute_result",
          "data": {
            "text/plain": [
              "       Tenure Months  Monthly Charges  Total Charges  Churn Value  \\\n",
              "count    7043.000000      7043.000000    7043.000000  7043.000000   \n",
              "mean       32.371149        64.761692    2281.916928     0.265370   \n",
              "std        24.559481        30.090047    2265.270398     0.441561   \n",
              "min         0.000000        18.250000      18.800000     0.000000   \n",
              "25%         9.000000        35.500000     402.225000     0.000000   \n",
              "50%        29.000000        70.350000    1397.475000     0.000000   \n",
              "75%        55.000000        89.850000    3786.600000     1.000000   \n",
              "max        72.000000       118.750000    8684.800000     1.000000   \n",
              "\n",
              "       Churn Score         CLTV  \n",
              "count  7043.000000  7043.000000  \n",
              "mean     58.699418  4400.295755  \n",
              "std      21.525131  1183.057152  \n",
              "min       5.000000  2003.000000  \n",
              "25%      40.000000  3469.000000  \n",
              "50%      61.000000  4527.000000  \n",
              "75%      75.000000  5380.500000  \n",
              "max     100.000000  6500.000000  "
            ],
            "text/html": [
              "\n",
              "  <div id=\"df-31d80193-3ea5-4742-ba05-5ca531122d00\" class=\"colab-df-container\">\n",
              "    <div>\n",
              "<style scoped>\n",
              "    .dataframe tbody tr th:only-of-type {\n",
              "        vertical-align: middle;\n",
              "    }\n",
              "\n",
              "    .dataframe tbody tr th {\n",
              "        vertical-align: top;\n",
              "    }\n",
              "\n",
              "    .dataframe thead th {\n",
              "        text-align: right;\n",
              "    }\n",
              "</style>\n",
              "<table border=\"1\" class=\"dataframe\">\n",
              "  <thead>\n",
              "    <tr style=\"text-align: right;\">\n",
              "      <th></th>\n",
              "      <th>Tenure Months</th>\n",
              "      <th>Monthly Charges</th>\n",
              "      <th>Total Charges</th>\n",
              "      <th>Churn Value</th>\n",
              "      <th>Churn Score</th>\n",
              "      <th>CLTV</th>\n",
              "    </tr>\n",
              "  </thead>\n",
              "  <tbody>\n",
              "    <tr>\n",
              "      <th>count</th>\n",
              "      <td>7043.000000</td>\n",
              "      <td>7043.000000</td>\n",
              "      <td>7043.000000</td>\n",
              "      <td>7043.000000</td>\n",
              "      <td>7043.000000</td>\n",
              "      <td>7043.000000</td>\n",
              "    </tr>\n",
              "    <tr>\n",
              "      <th>mean</th>\n",
              "      <td>32.371149</td>\n",
              "      <td>64.761692</td>\n",
              "      <td>2281.916928</td>\n",
              "      <td>0.265370</td>\n",
              "      <td>58.699418</td>\n",
              "      <td>4400.295755</td>\n",
              "    </tr>\n",
              "    <tr>\n",
              "      <th>std</th>\n",
              "      <td>24.559481</td>\n",
              "      <td>30.090047</td>\n",
              "      <td>2265.270398</td>\n",
              "      <td>0.441561</td>\n",
              "      <td>21.525131</td>\n",
              "      <td>1183.057152</td>\n",
              "    </tr>\n",
              "    <tr>\n",
              "      <th>min</th>\n",
              "      <td>0.000000</td>\n",
              "      <td>18.250000</td>\n",
              "      <td>18.800000</td>\n",
              "      <td>0.000000</td>\n",
              "      <td>5.000000</td>\n",
              "      <td>2003.000000</td>\n",
              "    </tr>\n",
              "    <tr>\n",
              "      <th>25%</th>\n",
              "      <td>9.000000</td>\n",
              "      <td>35.500000</td>\n",
              "      <td>402.225000</td>\n",
              "      <td>0.000000</td>\n",
              "      <td>40.000000</td>\n",
              "      <td>3469.000000</td>\n",
              "    </tr>\n",
              "    <tr>\n",
              "      <th>50%</th>\n",
              "      <td>29.000000</td>\n",
              "      <td>70.350000</td>\n",
              "      <td>1397.475000</td>\n",
              "      <td>0.000000</td>\n",
              "      <td>61.000000</td>\n",
              "      <td>4527.000000</td>\n",
              "    </tr>\n",
              "    <tr>\n",
              "      <th>75%</th>\n",
              "      <td>55.000000</td>\n",
              "      <td>89.850000</td>\n",
              "      <td>3786.600000</td>\n",
              "      <td>1.000000</td>\n",
              "      <td>75.000000</td>\n",
              "      <td>5380.500000</td>\n",
              "    </tr>\n",
              "    <tr>\n",
              "      <th>max</th>\n",
              "      <td>72.000000</td>\n",
              "      <td>118.750000</td>\n",
              "      <td>8684.800000</td>\n",
              "      <td>1.000000</td>\n",
              "      <td>100.000000</td>\n",
              "      <td>6500.000000</td>\n",
              "    </tr>\n",
              "  </tbody>\n",
              "</table>\n",
              "</div>\n",
              "    <div class=\"colab-df-buttons\">\n",
              "\n",
              "  <div class=\"colab-df-container\">\n",
              "    <button class=\"colab-df-convert\" onclick=\"convertToInteractive('df-31d80193-3ea5-4742-ba05-5ca531122d00')\"\n",
              "            title=\"Convert this dataframe to an interactive table.\"\n",
              "            style=\"display:none;\">\n",
              "\n",
              "  <svg xmlns=\"http://www.w3.org/2000/svg\" height=\"24px\" viewBox=\"0 -960 960 960\">\n",
              "    <path d=\"M120-120v-720h720v720H120Zm60-500h600v-160H180v160Zm220 220h160v-160H400v160Zm0 220h160v-160H400v160ZM180-400h160v-160H180v160Zm440 0h160v-160H620v160ZM180-180h160v-160H180v160Zm440 0h160v-160H620v160Z\"/>\n",
              "  </svg>\n",
              "    </button>\n",
              "\n",
              "  <style>\n",
              "    .colab-df-container {\n",
              "      display:flex;\n",
              "      gap: 12px;\n",
              "    }\n",
              "\n",
              "    .colab-df-convert {\n",
              "      background-color: #E8F0FE;\n",
              "      border: none;\n",
              "      border-radius: 50%;\n",
              "      cursor: pointer;\n",
              "      display: none;\n",
              "      fill: #1967D2;\n",
              "      height: 32px;\n",
              "      padding: 0 0 0 0;\n",
              "      width: 32px;\n",
              "    }\n",
              "\n",
              "    .colab-df-convert:hover {\n",
              "      background-color: #E2EBFA;\n",
              "      box-shadow: 0px 1px 2px rgba(60, 64, 67, 0.3), 0px 1px 3px 1px rgba(60, 64, 67, 0.15);\n",
              "      fill: #174EA6;\n",
              "    }\n",
              "\n",
              "    .colab-df-buttons div {\n",
              "      margin-bottom: 4px;\n",
              "    }\n",
              "\n",
              "    [theme=dark] .colab-df-convert {\n",
              "      background-color: #3B4455;\n",
              "      fill: #D2E3FC;\n",
              "    }\n",
              "\n",
              "    [theme=dark] .colab-df-convert:hover {\n",
              "      background-color: #434B5C;\n",
              "      box-shadow: 0px 1px 3px 1px rgba(0, 0, 0, 0.15);\n",
              "      filter: drop-shadow(0px 1px 2px rgba(0, 0, 0, 0.3));\n",
              "      fill: #FFFFFF;\n",
              "    }\n",
              "  </style>\n",
              "\n",
              "    <script>\n",
              "      const buttonEl =\n",
              "        document.querySelector('#df-31d80193-3ea5-4742-ba05-5ca531122d00 button.colab-df-convert');\n",
              "      buttonEl.style.display =\n",
              "        google.colab.kernel.accessAllowed ? 'block' : 'none';\n",
              "\n",
              "      async function convertToInteractive(key) {\n",
              "        const element = document.querySelector('#df-31d80193-3ea5-4742-ba05-5ca531122d00');\n",
              "        const dataTable =\n",
              "          await google.colab.kernel.invokeFunction('convertToInteractive',\n",
              "                                                    [key], {});\n",
              "        if (!dataTable) return;\n",
              "\n",
              "        const docLinkHtml = 'Like what you see? Visit the ' +\n",
              "          '<a target=\"_blank\" href=https://colab.research.google.com/notebooks/data_table.ipynb>data table notebook</a>'\n",
              "          + ' to learn more about interactive tables.';\n",
              "        element.innerHTML = '';\n",
              "        dataTable['output_type'] = 'display_data';\n",
              "        await google.colab.output.renderOutput(dataTable, element);\n",
              "        const docLink = document.createElement('div');\n",
              "        docLink.innerHTML = docLinkHtml;\n",
              "        element.appendChild(docLink);\n",
              "      }\n",
              "    </script>\n",
              "  </div>\n",
              "\n",
              "\n",
              "<div id=\"df-3fa122eb-1cad-4aba-8593-c0320f7f4487\">\n",
              "  <button class=\"colab-df-quickchart\" onclick=\"quickchart('df-3fa122eb-1cad-4aba-8593-c0320f7f4487')\"\n",
              "            title=\"Suggest charts\"\n",
              "            style=\"display:none;\">\n",
              "\n",
              "<svg xmlns=\"http://www.w3.org/2000/svg\" height=\"24px\"viewBox=\"0 0 24 24\"\n",
              "     width=\"24px\">\n",
              "    <g>\n",
              "        <path d=\"M19 3H5c-1.1 0-2 .9-2 2v14c0 1.1.9 2 2 2h14c1.1 0 2-.9 2-2V5c0-1.1-.9-2-2-2zM9 17H7v-7h2v7zm4 0h-2V7h2v10zm4 0h-2v-4h2v4z\"/>\n",
              "    </g>\n",
              "</svg>\n",
              "  </button>\n",
              "\n",
              "<style>\n",
              "  .colab-df-quickchart {\n",
              "      --bg-color: #E8F0FE;\n",
              "      --fill-color: #1967D2;\n",
              "      --hover-bg-color: #E2EBFA;\n",
              "      --hover-fill-color: #174EA6;\n",
              "      --disabled-fill-color: #AAA;\n",
              "      --disabled-bg-color: #DDD;\n",
              "  }\n",
              "\n",
              "  [theme=dark] .colab-df-quickchart {\n",
              "      --bg-color: #3B4455;\n",
              "      --fill-color: #D2E3FC;\n",
              "      --hover-bg-color: #434B5C;\n",
              "      --hover-fill-color: #FFFFFF;\n",
              "      --disabled-bg-color: #3B4455;\n",
              "      --disabled-fill-color: #666;\n",
              "  }\n",
              "\n",
              "  .colab-df-quickchart {\n",
              "    background-color: var(--bg-color);\n",
              "    border: none;\n",
              "    border-radius: 50%;\n",
              "    cursor: pointer;\n",
              "    display: none;\n",
              "    fill: var(--fill-color);\n",
              "    height: 32px;\n",
              "    padding: 0;\n",
              "    width: 32px;\n",
              "  }\n",
              "\n",
              "  .colab-df-quickchart:hover {\n",
              "    background-color: var(--hover-bg-color);\n",
              "    box-shadow: 0 1px 2px rgba(60, 64, 67, 0.3), 0 1px 3px 1px rgba(60, 64, 67, 0.15);\n",
              "    fill: var(--button-hover-fill-color);\n",
              "  }\n",
              "\n",
              "  .colab-df-quickchart-complete:disabled,\n",
              "  .colab-df-quickchart-complete:disabled:hover {\n",
              "    background-color: var(--disabled-bg-color);\n",
              "    fill: var(--disabled-fill-color);\n",
              "    box-shadow: none;\n",
              "  }\n",
              "\n",
              "  .colab-df-spinner {\n",
              "    border: 2px solid var(--fill-color);\n",
              "    border-color: transparent;\n",
              "    border-bottom-color: var(--fill-color);\n",
              "    animation:\n",
              "      spin 1s steps(1) infinite;\n",
              "  }\n",
              "\n",
              "  @keyframes spin {\n",
              "    0% {\n",
              "      border-color: transparent;\n",
              "      border-bottom-color: var(--fill-color);\n",
              "      border-left-color: var(--fill-color);\n",
              "    }\n",
              "    20% {\n",
              "      border-color: transparent;\n",
              "      border-left-color: var(--fill-color);\n",
              "      border-top-color: var(--fill-color);\n",
              "    }\n",
              "    30% {\n",
              "      border-color: transparent;\n",
              "      border-left-color: var(--fill-color);\n",
              "      border-top-color: var(--fill-color);\n",
              "      border-right-color: var(--fill-color);\n",
              "    }\n",
              "    40% {\n",
              "      border-color: transparent;\n",
              "      border-right-color: var(--fill-color);\n",
              "      border-top-color: var(--fill-color);\n",
              "    }\n",
              "    60% {\n",
              "      border-color: transparent;\n",
              "      border-right-color: var(--fill-color);\n",
              "    }\n",
              "    80% {\n",
              "      border-color: transparent;\n",
              "      border-right-color: var(--fill-color);\n",
              "      border-bottom-color: var(--fill-color);\n",
              "    }\n",
              "    90% {\n",
              "      border-color: transparent;\n",
              "      border-bottom-color: var(--fill-color);\n",
              "    }\n",
              "  }\n",
              "</style>\n",
              "\n",
              "  <script>\n",
              "    async function quickchart(key) {\n",
              "      const quickchartButtonEl =\n",
              "        document.querySelector('#' + key + ' button');\n",
              "      quickchartButtonEl.disabled = true;  // To prevent multiple clicks.\n",
              "      quickchartButtonEl.classList.add('colab-df-spinner');\n",
              "      try {\n",
              "        const charts = await google.colab.kernel.invokeFunction(\n",
              "            'suggestCharts', [key], {});\n",
              "      } catch (error) {\n",
              "        console.error('Error during call to suggestCharts:', error);\n",
              "      }\n",
              "      quickchartButtonEl.classList.remove('colab-df-spinner');\n",
              "      quickchartButtonEl.classList.add('colab-df-quickchart-complete');\n",
              "    }\n",
              "    (() => {\n",
              "      let quickchartButtonEl =\n",
              "        document.querySelector('#df-3fa122eb-1cad-4aba-8593-c0320f7f4487 button');\n",
              "      quickchartButtonEl.style.display =\n",
              "        google.colab.kernel.accessAllowed ? 'block' : 'none';\n",
              "    })();\n",
              "  </script>\n",
              "</div>\n",
              "\n",
              "    </div>\n",
              "  </div>\n"
            ],
            "application/vnd.google.colaboratory.intrinsic+json": {
              "type": "dataframe",
              "summary": "{\n  \"name\": \"df\",\n  \"rows\": 8,\n  \"fields\": [\n    {\n      \"column\": \"Tenure Months\",\n      \"properties\": {\n        \"dtype\": \"number\",\n        \"std\": 2478.9752758409018,\n        \"min\": 0.0,\n        \"max\": 7043.0,\n        \"num_unique_values\": 8,\n        \"samples\": [\n          32.37114865824223,\n          29.0,\n          7043.0\n        ],\n        \"semantic_type\": \"\",\n        \"description\": \"\"\n      }\n    },\n    {\n      \"column\": \"Monthly Charges\",\n      \"properties\": {\n        \"dtype\": \"number\",\n        \"std\": 2468.7047672837775,\n        \"min\": 18.25,\n        \"max\": 7043.0,\n        \"num_unique_values\": 8,\n        \"samples\": [\n          64.76169246059918,\n          70.35,\n          7043.0\n        ],\n        \"semantic_type\": \"\",\n        \"description\": \"\"\n      }\n    },\n    {\n      \"column\": \"Total Charges\",\n      \"properties\": {\n        \"dtype\": \"number\",\n        \"std\": 3119.0484860242914,\n        \"min\": 18.8,\n        \"max\": 8684.8,\n        \"num_unique_values\": 8,\n        \"samples\": [\n          2281.9169281556156,\n          1397.475,\n          7043.0\n        ],\n        \"semantic_type\": \"\",\n        \"description\": \"\"\n      }\n    },\n    {\n      \"column\": \"Churn Value\",\n      \"properties\": {\n        \"dtype\": \"number\",\n        \"std\": 2489.939844235915,\n        \"min\": 0.0,\n        \"max\": 7043.0,\n        \"num_unique_values\": 5,\n        \"samples\": [\n          0.2653698707936959,\n          1.0,\n          0.441561305121947\n        ],\n        \"semantic_type\": \"\",\n        \"description\": \"\"\n      }\n    },\n    {\n      \"column\": \"Churn Score\",\n      \"properties\": {\n        \"dtype\": \"number\",\n        \"std\": 2472.012231455447,\n        \"min\": 5.0,\n        \"max\": 7043.0,\n        \"num_unique_values\": 8,\n        \"samples\": [\n          58.69941786170666,\n          61.0,\n          7043.0\n        ],\n        \"semantic_type\": \"\",\n        \"description\": \"\"\n      }\n    },\n    {\n      \"column\": \"CLTV\",\n      \"properties\": {\n        \"dtype\": \"number\",\n        \"std\": 2044.9875864682836,\n        \"min\": 1183.0571519525197,\n        \"max\": 7043.0,\n        \"num_unique_values\": 8,\n        \"samples\": [\n          4400.295754650007,\n          4527.0,\n          7043.0\n        ],\n        \"semantic_type\": \"\",\n        \"description\": \"\"\n      }\n    }\n  ]\n}"
            }
          },
          "metadata": {},
          "execution_count": 9
        }
      ]
    },
    {
      "cell_type": "markdown",
      "source": [
        "## Analisando a distribuição da base de dados"
      ],
      "metadata": {
        "id": "LW05iGarFx5I"
      }
    },
    {
      "cell_type": "markdown",
      "source": [
        "Vamos verificar se estamos trabalhando com um conjunto de dados desbalanceados ou não, pois em conjuntos desbalanceados requerem um outro tipo de abordagem, afim de minimizar o impacto no modelo de machine learning.\n",
        "\n",
        "Aqui percebemos que não existe um desbalanceamento, uma vez que temos 27% da base com clientes de Churn e 73% de clientes não Churn."
      ],
      "metadata": {
        "id": "2BUkwb0LEcWk"
      }
    },
    {
      "cell_type": "code",
      "source": [
        "print(\"Total de Churn: {}\".format(round(df['Churn Value'].value_counts()[1] / df.shape[0],2)))\n",
        "print(\"Total de Não Churn: {}\".format(round(df['Churn Value'].value_counts()[0] / df.shape[0],2)))\n",
        "sns.countplot(x='Churn Value', data=df,hue='Churn Value')\n",
        "plt.title('Distribuição da Variável Alvo')"
      ],
      "metadata": {
        "id": "z9xk9zi0Eczs",
        "colab": {
          "base_uri": "https://localhost:8080/",
          "height": 530
        },
        "outputId": "9adc3b67-f9a3-4c0d-be42-45033d759cae"
      },
      "execution_count": null,
      "outputs": [
        {
          "output_type": "stream",
          "name": "stdout",
          "text": [
            "Total de Churn: 0.27\n",
            "Total de Não Churn: 0.73\n"
          ]
        },
        {
          "output_type": "execute_result",
          "data": {
            "text/plain": [
              "Text(0.5, 1.0, 'Distribuição da Variável Alvo')"
            ]
          },
          "metadata": {},
          "execution_count": 10
        },
        {
          "output_type": "display_data",
          "data": {
            "text/plain": [
              "<Figure size 640x480 with 1 Axes>"
            ],
            "image/png": "[encoded data removed]"
          },
          "metadata": {}
        }
      ]
    },
    {
      "cell_type": "markdown",
      "source": [
        "## Segmentação dos Dados"
      ],
      "metadata": {
        "id": "t7BJtKvRbPCG"
      }
    },
    {
      "cell_type": "markdown",
      "source": [
        "Vamos entender um pouco melhor como está dividida nossa base de dados, segmentando a distribuição por gênero para vermos se existe algum gênero quero é mais propício ao churn do que outro, e também o método de pagamento, uma vez que inconveniências com isso pode gerar insatisfação no cliente e consequentemente desistência do produto.\n",
        "\n",
        "Verificamos que quanto ao gênero, não temos alguma diferença aparente, apresentando a mesma proporção entre ambos os gêneros para as duas classes.\n",
        "\n",
        "Ao analisar o meio de pagamento já temos uma diferença aparente, onde pessoas que utilizam *Eletronic Check* tendem mais ao Churn que quem utiliza outros métodos de pagamento. Já temos uma característica que pode ser relevante no nosso modelo."
      ],
      "metadata": {
        "id": "6SAjC8K8hvJ8"
      }
    },
    {
      "cell_type": "code",
      "source": [
        "fig, ax = plt.subplots(1, 4, figsize=(20,5))\n",
        "sns.countplot(x='Gender', data=df, hue='Churn Value', ax=ax[0])\n",
        "ax[0].set_title('Distribuição da Variável Alvo por Gênero');\n",
        "\n",
        "sns.countplot(x='Payment Method', data=df, hue='Churn Value', ax=ax[1])\n",
        "ax[1].set_title('Distribuição da Variável Alvo por Método de Pagamento');\n",
        "ax[1].tick_params(labelrotation=45);\n",
        "\n",
        "sns.countplot(x='Senior Citizen', data=df, hue='Churn Value', ax=ax[2])\n",
        "ax[2].set_title('Distribuição da Variável Alvo por Idade');\n",
        "\n",
        "sns.countplot(x='Partner', data=df, hue='Churn Value', ax=ax[3])\n",
        "ax[3].set_title('Distribuição da Variável Alvo por Parceiro');\n",
        "\n",
        "plt.tight_layout();"
      ],
      "metadata": {
        "id": "ksxE21QHsqzx",
        "colab": {
          "base_uri": "https://localhost:8080/",
          "height": 455
        },
        "outputId": "532067be-2b00-493f-9d97-b07287778f4b"
      },
      "execution_count": null,
      "outputs": [
        {
          "output_type": "display_data",
          "data": {
            "text/plain": [
              "<Figure size 2000x500 with 4 Axes>"
            ],
            "image/png": "[encoded data removed]"
          },
          "metadata": {}
        }
      ]
    },
    {
      "cell_type": "markdown",
      "source": [
        "Será que temos alguma relação entre os valores pagos e os casos de churn?\n",
        "\n",
        "Aqui plotamos 2 gráficos, um da média e outra da mediana dos valores pagos pelos clientes, segregando em Churn e Clientes Ativos. Anteriormente, tinhamos visto quando utilizamos o `describe` que 50% dos clientes estão até 29 meses na empresa, com a média em 32 meses, e quanto ao valor pago mensalmente, 50% dos clientes pagam até 70.35, com a média em 64.76.\n",
        "\n",
        "Será que os clientes que deram Churn foram os clientes que pagavam mais?\n",
        "Bom, quando separamos entre Churn e cliente ativos, observamos em vermelho os clientes que deram churn possuem valor de `Monthly Charges` maior que os clientes ativos em azul.\n",
        "\n",
        "Esses clientes tiveram um desconto na fatura para não sairem da empresa, por isso os valores são menores? Existe essa possibilidade, uma vez que quando um cliente liga desistindo de continuar com a empresa, normalmente são oferecidos planos mais atrativos."
      ],
      "metadata": {
        "id": "18eyH12g6xdR"
      }
    },
    {
      "cell_type": "code",
      "source": [
        "mean_charges_no_churn = df[df['Churn Value'] == 0].groupby('Tenure Months')['Monthly Charges'].mean()\n",
        "mean_charges_churned = df[df['Churn Value'] == 1].groupby('Tenure Months')['Monthly Charges'].mean()\n",
        "\n",
        "median_charges_no_churn = df[df['Churn Value'] == 0].groupby('Tenure Months')['Monthly Charges'].median()\n",
        "median_charges_churned = df[df['Churn Value'] == 1].groupby('Tenure Months')['Monthly Charges'].median()\n",
        "\n",
        "fig, ax = plt.subplots(figsize=(20,3))\n",
        "\n",
        "ax.bar(mean_charges_churned.index, mean_charges_churned.values)\n",
        "ax.bar(mean_charges_no_churn.index, mean_charges_no_churn.values, color='b', alpha=.5)\n",
        "ax.set_title('Média de Gastos por Mês')\n",
        "\n",
        "plt.tight_layout();"
      ],
      "metadata": {
        "id": "-Pm8oMIy4xSQ",
        "colab": {
          "base_uri": "https://localhost:8080/",
          "height": 278
        },
        "outputId": "72b24e56-96dd-47ea-f9fd-7f0550c4b1b9"
      },
      "execution_count": null,
      "outputs": [
        {
          "output_type": "display_data",
          "data": {
            "text/plain": [
              "<Figure size 2000x300 with 1 Axes>"
            ],
            "image/png": "[encoded data removed]"
          },
          "metadata": {}
        }
      ]
    },
    {
      "cell_type": "code",
      "source": [
        "fig, ax = plt.subplots(1,4, figsize=(20,5))\n",
        "\n",
        "sns.boxplot(data=df, y= 'Tenure Months',hue='Churn Value', gap=.1,  ax=ax[0])\n",
        "ax[0].set_title('Tenure Months')\n",
        "\n",
        "sns.boxplot(data=df, y= 'Monthly Charges', hue='Churn Value', gap=.1, ax=ax[1])\n",
        "ax[1].set_title('Monthly Charges')\n",
        "\n",
        "sns.boxplot(data=df, y= 'Total Charges', hue='Churn Value', gap=.1, ax=ax[2])\n",
        "ax[2].set_title('Total Charges');\n",
        "\n",
        "sns.boxplot(data=df, y= 'Churn Score', hue='Churn Value', gap=.1, ax=ax[3])\n",
        "ax[3].set_title('Churn Score');\n",
        "\n",
        "plt.tight_layout();"
      ],
      "metadata": {
        "id": "S73UYIbn7AMn",
        "colab": {
          "base_uri": "https://localhost:8080/",
          "height": 457
        },
        "outputId": "019b09c7-7a9e-4fb2-d17c-189ee4c5f856"
      },
      "execution_count": null,
      "outputs": [
        {
          "output_type": "display_data",
          "data": {
            "text/plain": [
              "<Figure size 2000x500 with 4 Axes>"
            ],
            "image/png": "[encoded data removed]"
          },
          "metadata": {}
        }
      ]
    },
    {
      "cell_type": "markdown",
      "source": [
        "# Modelo\n",
        "Nesta etapa iremos preparar os dados e desenvolver o nosso modelo de Machine Learning. Temos como objetivo a explorar a otimização dos hiperparâmetros, e para isso escolhemos o modelo XGBClassifier para otimização.\n",
        "\n",
        "Inicialmente escolhemos o **Recall** como métrica de avaliação do nosso modelo, pois devido a natureza do **Recall**, nosso modelo daria um peso maior para os Falsos Negativos - Clientes que deram Churn mas o modelo classificou como Não Churn.\n",
        "\n",
        "Porém, acabamos utilizando outra métrica, F1-Score e Precision, que será explicado durante o desenvolvimento do modelo.\n",
        "\n",
        "Também será utilizada validação cruzada.\n",
        "\n",
        "Não utilizamos técnicas de balanceamento de dados, pois os temos 27% dos dados na classe alvo, `Churn Value = 1`.\n"
      ],
      "metadata": {
        "id": "yjVBMKcGF3NZ"
      }
    },
    {
      "cell_type": "markdown",
      "source": [
        "## Preparando os Dados\n"
      ],
      "metadata": {
        "id": "V3x_46T4CdPL"
      }
    },
    {
      "cell_type": "markdown",
      "source": [
        "Vamos começar separando as colunas da nossa base de dados em:\n",
        "* *Binárias* :\n",
        "  * Iremos utilizar o `OneHotEncoder` para codificar as variáveis em 0 e 1;\n",
        "* *Numéricas* :\n",
        "  * Iremos padronizar `StandarScaler` para padronizar as variaveis;\n",
        "* *Categóricas* :\n",
        "  * Iremos utilizar o `get_dummies` para codificar as variáveis."
      ],
      "metadata": {
        "id": "QE-ZboEqamnu"
      }
    },
    {
      "cell_type": "markdown",
      "source": [
        "Primeiro separamos as colunas pelo tipo de variável, em binárias, numéricas e categóricas."
      ],
      "metadata": {
        "id": "dcC_sTclasC7"
      }
    },
    {
      "cell_type": "code",
      "source": [
        "df_churn = df.copy()\n",
        "df_dropped = df_churn.drop('Churn Value', axis=1)"
      ],
      "metadata": {
        "id": "N_jm4PrJJuPG"
      },
      "execution_count": null,
      "outputs": []
    },
    {
      "cell_type": "code",
      "source": [
        "binary_cols = df_dropped.nunique()[df_dropped.nunique() == 2].index.tolist()\n",
        "num_cols = [col for col in df.select_dtypes(['int', 'float']).columns.tolist() if col not in binary_cols]\n",
        "cat_cols = [col for col in df.columns.tolist() if col not in binary_cols + num_cols]"
      ],
      "metadata": {
        "id": "QUXRISvN-WSt"
      },
      "execution_count": null,
      "outputs": []
    },
    {
      "cell_type": "markdown",
      "source": [
        "Iremos fazer a dumificação das variáveis categóricas."
      ],
      "metadata": {
        "id": "iR8ox78fa0kb"
      }
    },
    {
      "cell_type": "code",
      "source": [
        "df_dum = pd.get_dummies(df_churn[cat_cols], drop_first=True, dtype=float)\n",
        "df_churn = pd.concat([df_churn, df_dum], axis=1)\n",
        "df_churn.drop(cat_cols, axis=1, inplace=True)"
      ],
      "metadata": {
        "id": "RTUZsKYUYOg-"
      },
      "execution_count": null,
      "outputs": []
    },
    {
      "cell_type": "markdown",
      "source": [
        "Vamos separar o dataframe em:\n",
        "* X -> somente variáveis independentes\n",
        "* y -> Variável alvo (*Churn Value*)"
      ],
      "metadata": {
        "id": "cSKQhRt-bHob"
      }
    },
    {
      "cell_type": "code",
      "source": [
        "X = df_churn.drop('Churn Value', axis=1)\n",
        "y = df_churn['Churn Value']"
      ],
      "metadata": {
        "id": "Aq4DzChdaNqm"
      },
      "execution_count": null,
      "outputs": []
    },
    {
      "cell_type": "markdown",
      "source": [
        "Agora podemos aplicar o Encoder nas variáveis binárias.\n",
        "\n",
        "Utilizaremos o **OneHotEncoder**."
      ],
      "metadata": {
        "id": "wQQxFhH-bVnm"
      }
    },
    {
      "cell_type": "code",
      "source": [
        "one_hot = OneHotEncoder(drop='first')\n",
        "one_hot = one_hot.fit(X[binary_cols])\n",
        "feature_names = one_hot.get_feature_names_out().tolist()\n",
        "X_encoded = one_hot.transform(X[binary_cols]).toarray()\n",
        "\n",
        "X_encoded = pd.DataFrame(X_encoded, columns=feature_names)\n",
        "X = pd.concat([X.drop(binary_cols, axis=1), X_encoded], axis=1)"
      ],
      "metadata": {
        "id": "k9gNlT4wbeau"
      },
      "execution_count": null,
      "outputs": []
    },
    {
      "cell_type": "markdown",
      "source": [
        "## Criando o Modelo\n",
        "Nesta etapa iremos criar o nosso modelo de previsão de Churn.\n",
        "\n",
        "Serão criadas duas funções para nos ajudar a avaliar o desempenho dos modelos. Uma função para criar modelo, fazer a validação cruzada e apresentar a média dos resultados obtidos e uma função custo.\n"
      ],
      "metadata": {
        "id": "qLu6wdGiCgiM"
      }
    },
    {
      "cell_type": "markdown",
      "source": [
        "Começamos separando a base de dados em base de treino e base de teste."
      ],
      "metadata": {
        "id": "AyAlSJepkY5_"
      }
    },
    {
      "cell_type": "code",
      "source": [
        "x_train, x_test, y_train, y_test = train_test_split(X,y)"
      ],
      "metadata": {
        "id": "oeqcLbGubuQ6"
      },
      "execution_count": null,
      "outputs": []
    },
    {
      "cell_type": "markdown",
      "source": [
        "Criamos a função `val_model` que consiste em criar um pipeline e validação cruzada para os modelos que iremos testar, retornando a média do resultado da validação cruzada.\n",
        "\n",
        "Inicialmente iriamos utilizar somente o Recall como métrica para avaliar os modelos, porém após alguns testes, resolvemos adicionar outras duas métricas para avaliarmos, F1-Score e Precision.\n",
        "\n",
        "* Recall -> $\\frac{True Positive}{( True Positive + False Negative)}$\n",
        "  * Avalia a capacidade do modelo em classificar corretamente os \"Positivos\"\n",
        "\n",
        "\n",
        "* Precision -> $\\frac{True Positive}{( True Positive + False Positive)}$\n",
        "  * Avalia a taxa de acerto das previsões \"Positivas\"\n",
        "\n",
        "\n",
        "* F1-Score -> $ 2*\\frac{(Recall * Precision)}{(Recall + Precision)} $"
      ],
      "metadata": {
        "id": "TBfxsyCIkdLj"
      }
    },
    {
      "cell_type": "code",
      "source": [
        "def val_model(X,y, clf, quite=False):\n",
        "\n",
        "  X = np.array(X)\n",
        "  y = np.array(y)\n",
        "\n",
        "  pipeline = make_pipeline(StandardScaler(), clf)\n",
        "  f1_score = cross_val_score(pipeline, X, y, scoring='f1')\n",
        "  precision_score = cross_val_score(pipeline,X,y, scoring='precision')\n",
        "  recall_score = cross_val_score(pipeline,X,y, scoring='recall')\n",
        "\n",
        "  if quite == False:\n",
        "    print('F1-Score: {:.2f} (+/- {:.2f})'.format(f1_score.mean(), f1_score.std()))\n",
        "    print('Precision: {:.2f} (+/- {:.2f})'.format(precision_score.mean(), precision_score.std()))\n",
        "    print('Recall: {:.2f} (+/- {:.2f})'.format(recall_score.mean(), recall_score.std()))\n",
        "\n",
        "  return f1_score.mean(), precision_score.mean(), recall_score.mean()"
      ],
      "metadata": {
        "id": "W3Gkl7yIC40-"
      },
      "execution_count": null,
      "outputs": []
    },
    {
      "cell_type": "markdown",
      "source": [
        "Em seguida criamos uma função custo para avaliar os erros do modelo, penalizando numa escala 50:1 os valores falsos negativos x falso positivo.\n",
        "\n",
        "Colocamos essa escala pois perder um cliente gera mais impacto para a empresa que, por exemplo, oferecer um benefício para um cliente para fideliza-lo.\n",
        "Porém temos que tomar cuidado pois o modelo pode classificar todos os clientes como possível Churn, logo isso poderia impactar as receitas da empresa."
      ],
      "metadata": {
        "id": "xsvbESwllLl2"
      }
    },
    {
      "cell_type": "code",
      "source": [
        "def cost_function(y_test, y_pred):\n",
        "  sum = 0\n",
        "  for _y, _y_pred in zip(y_test, y_pred):\n",
        "    if _y != _y_pred:\n",
        "      n = 50 if _y == 1 else 1\n",
        "      sum += n\n",
        "  return sum"
      ],
      "metadata": {
        "id": "9kKzPg_Ld-l2"
      },
      "execution_count": null,
      "outputs": []
    },
    {
      "cell_type": "markdown",
      "source": [
        "Vamos criar um modelo baseline para termos como parâmetro base para avaliação dos demais modelos. Não iremos alterar nenhum hiperparâmetro. A ideia é verificar se através da otimização de hiperparâmetros nós conseguimos obter um resultado superior a esse."
      ],
      "metadata": {
        "id": "58xlNgOkomZ3"
      }
    },
    {
      "cell_type": "code",
      "source": [
        "rf = RandomForestClassifier()\n",
        "y_pred = rf.fit(x_train,y_train).predict(x_test)\n",
        "baseline_score = val_model(X,y, rf)\n",
        "print('Cost_Score: {}'.format(cost_function(y_test, y_pred)))"
      ],
      "metadata": {
        "colab": {
          "base_uri": "https://localhost:8080/"
        },
        "id": "ZnVbsy6MGP6U",
        "outputId": "c4b379c5-9e97-4f61-c151-f2862d1d8f0c"
      },
      "execution_count": null,
      "outputs": [
        {
          "output_type": "stream",
          "name": "stdout",
          "text": [
            "F1-Score: 0.86 (+/- 0.01)\n",
            "Precision: 0.88 (+/- 0.01)\n",
            "Recall: 0.84 (+/- 0.01)\n",
            "Cost_Score: 3607\n"
          ]
        }
      ]
    },
    {
      "cell_type": "markdown",
      "source": [
        "Iremos aplicar a validação cruzada a vários modelos, a fim de identificar o seu desempenho e escolher o(s) melhor(es). Novamente, serão utilizados apenas dados de treino. Os modelos escolhidos são:\n",
        "\n",
        "* Random Forest\n",
        "* Decision Tree\n",
        "* Stochastic Gradient Descent\n",
        "* SVC\n",
        "* Regressão Logística\n",
        "* LightGBM\n",
        "\n"
      ],
      "metadata": {
        "id": "pwS038b7GzmX"
      }
    },
    {
      "cell_type": "code",
      "source": [
        "rf = RandomForestClassifier()\n",
        "dt = DecisionTreeClassifier()\n",
        "sgdc = SGDClassifier()\n",
        "svc = SVC()\n",
        "lr = LogisticRegression()\n",
        "xgb = XGBClassifier()\n",
        "lgbm = LGBMClassifier(verbosity=0)\n",
        "\n",
        "model = []\n",
        "f1_score = []\n",
        "precision = []\n",
        "recall = []\n",
        "cost = []\n",
        "\n",
        "for clf in (rf, dt, sgdc, svc, lr, xgb, lgbm):\n",
        "  model.append(clf.__class__.__name__)\n",
        "  val = val_model(x_train, y_train, clf, quite=True)\n",
        "  f1_score.append(val[0])\n",
        "  precision.append(val[1])\n",
        "  recall.append(val[2])\n",
        "  y_pred = clf.fit(x_train, y_train).predict(x_test)\n",
        "  cost.append(cost_function(y_test, y_pred))\n",
        "\n",
        "pd.DataFrame({'model': model, 'F1-Score': f1_score, 'precision': precision,\n",
        "              'recall':recall,'cost': cost}).sort_values(by='F1-Score', ascending=False)"
      ],
      "metadata": {
        "colab": {
          "base_uri": "https://localhost:8080/",
          "height": 425
        },
        "id": "V56UctpTG3JZ",
        "outputId": "2afd27b1-9deb-4a62-980d-f20dd83a1d03"
      },
      "execution_count": null,
      "outputs": [
        {
          "output_type": "stream",
          "name": "stderr",
          "text": [
            "/usr/local/lib/python3.10/dist-packages/sklearn/linear_model/_logistic.py:460: ConvergenceWarning: lbfgs failed to converge (status=1):\n",
            "STOP: TOTAL NO. of ITERATIONS REACHED LIMIT.\n",
            "\n",
            "Increase the number of iterations (max_iter) or scale the data as shown in:\n",
            "    https://scikit-learn.org/stable/modules/preprocessing.html\n",
            "Please also refer to the documentation for alternative solver options:\n",
            "    https://scikit-learn.org/stable/modules/linear_model.html#logistic-regression\n",
            "  n_iter_i = _check_optimize_result(\n"
          ]
        },
        {
          "output_type": "stream",
          "name": "stdout",
          "text": [
            "[LightGBM] [Warning] Found whitespace in feature_names, replace with underlines\n"
          ]
        },
        {
          "output_type": "execute_result",
          "data": {
            "text/plain": [
              "                    model  F1-Score  precision    recall   cost\n",
              "0  RandomForestClassifier  0.862087   0.876772  0.845856   3611\n",
              "6          LGBMClassifier  0.861503   0.868055  0.855266   3276\n",
              "5           XGBClassifier  0.861162   0.867210  0.855271   3321\n",
              "4      LogisticRegression  0.852641   0.851966  0.853819   4392\n",
              "2           SGDClassifier  0.837370   0.834873  0.795854  17923\n",
              "3                     SVC  0.834250   0.844946  0.824143  24350\n",
              "1  DecisionTreeClassifier  0.819823   0.807068  0.825619   4087"
            ],
            "text/html": [
              "\n",
              "  <div id=\"df-b321f4d1-392d-49a8-88cb-31c05c20df3e\" class=\"colab-df-container\">\n",
              "    <div>\n",
              "<style scoped>\n",
              "    .dataframe tbody tr th:only-of-type {\n",
              "        vertical-align: middle;\n",
              "    }\n",
              "\n",
              "    .dataframe tbody tr th {\n",
              "        vertical-align: top;\n",
              "    }\n",
              "\n",
              "    .dataframe thead th {\n",
              "        text-align: right;\n",
              "    }\n",
              "</style>\n",
              "<table border=\"1\" class=\"dataframe\">\n",
              "  <thead>\n",
              "    <tr style=\"text-align: right;\">\n",
              "      <th></th>\n",
              "      <th>model</th>\n",
              "      <th>F1-Score</th>\n",
              "      <th>precision</th>\n",
              "      <th>recall</th>\n",
              "      <th>cost</th>\n",
              "    </tr>\n",
              "  </thead>\n",
              "  <tbody>\n",
              "    <tr>\n",
              "      <th>0</th>\n",
              "      <td>RandomForestClassifier</td>\n",
              "      <td>0.862087</td>\n",
              "      <td>0.876772</td>\n",
              "      <td>0.845856</td>\n",
              "      <td>3611</td>\n",
              "    </tr>\n",
              "    <tr>\n",
              "      <th>6</th>\n",
              "      <td>LGBMClassifier</td>\n",
              "      <td>0.861503</td>\n",
              "      <td>0.868055</td>\n",
              "      <td>0.855266</td>\n",
              "      <td>3276</td>\n",
              "    </tr>\n",
              "    <tr>\n",
              "      <th>5</th>\n",
              "      <td>XGBClassifier</td>\n",
              "      <td>0.861162</td>\n",
              "      <td>0.867210</td>\n",
              "      <td>0.855271</td>\n",
              "      <td>3321</td>\n",
              "    </tr>\n",
              "    <tr>\n",
              "      <th>4</th>\n",
              "      <td>LogisticRegression</td>\n",
              "      <td>0.852641</td>\n",
              "      <td>0.851966</td>\n",
              "      <td>0.853819</td>\n",
              "      <td>4392</td>\n",
              "    </tr>\n",
              "    <tr>\n",
              "      <th>2</th>\n",
              "      <td>SGDClassifier</td>\n",
              "      <td>0.837370</td>\n",
              "      <td>0.834873</td>\n",
              "      <td>0.795854</td>\n",
              "      <td>17923</td>\n",
              "    </tr>\n",
              "    <tr>\n",
              "      <th>3</th>\n",
              "      <td>SVC</td>\n",
              "      <td>0.834250</td>\n",
              "      <td>0.844946</td>\n",
              "      <td>0.824143</td>\n",
              "      <td>24350</td>\n",
              "    </tr>\n",
              "    <tr>\n",
              "      <th>1</th>\n",
              "      <td>DecisionTreeClassifier</td>\n",
              "      <td>0.819823</td>\n",
              "      <td>0.807068</td>\n",
              "      <td>0.825619</td>\n",
              "      <td>4087</td>\n",
              "    </tr>\n",
              "  </tbody>\n",
              "</table>\n",
              "</div>\n",
              "    <div class=\"colab-df-buttons\">\n",
              "\n",
              "  <div class=\"colab-df-container\">\n",
              "    <button class=\"colab-df-convert\" onclick=\"convertToInteractive('df-b321f4d1-392d-49a8-88cb-31c05c20df3e')\"\n",
              "            title=\"Convert this dataframe to an interactive table.\"\n",
              "            style=\"display:none;\">\n",
              "\n",
              "  <svg xmlns=\"http://www.w3.org/2000/svg\" height=\"24px\" viewBox=\"0 -960 960 960\">\n",
              "    <path d=\"M120-120v-720h720v720H120Zm60-500h600v-160H180v160Zm220 220h160v-160H400v160Zm0 220h160v-160H400v160ZM180-400h160v-160H180v160Zm440 0h160v-160H620v160ZM180-180h160v-160H180v160Zm440 0h160v-160H620v160Z\"/>\n",
              "  </svg>\n",
              "    </button>\n",
              "\n",
              "  <style>\n",
              "    .colab-df-container {\n",
              "      display:flex;\n",
              "      gap: 12px;\n",
              "    }\n",
              "\n",
              "    .colab-df-convert {\n",
              "      background-color: #E8F0FE;\n",
              "      border: none;\n",
              "      border-radius: 50%;\n",
              "      cursor: pointer;\n",
              "      display: none;\n",
              "      fill: #1967D2;\n",
              "      height: 32px;\n",
              "      padding: 0 0 0 0;\n",
              "      width: 32px;\n",
              "    }\n",
              "\n",
              "    .colab-df-convert:hover {\n",
              "      background-color: #E2EBFA;\n",
              "      box-shadow: 0px 1px 2px rgba(60, 64, 67, 0.3), 0px 1px 3px 1px rgba(60, 64, 67, 0.15);\n",
              "      fill: #174EA6;\n",
              "    }\n",
              "\n",
              "    .colab-df-buttons div {\n",
              "      margin-bottom: 4px;\n",
              "    }\n",
              "\n",
              "    [theme=dark] .colab-df-convert {\n",
              "      background-color: #3B4455;\n",
              "      fill: #D2E3FC;\n",
              "    }\n",
              "\n",
              "    [theme=dark] .colab-df-convert:hover {\n",
              "      background-color: #434B5C;\n",
              "      box-shadow: 0px 1px 3px 1px rgba(0, 0, 0, 0.15);\n",
              "      filter: drop-shadow(0px 1px 2px rgba(0, 0, 0, 0.3));\n",
              "      fill: #FFFFFF;\n",
              "    }\n",
              "  </style>\n",
              "\n",
              "    <script>\n",
              "      const buttonEl =\n",
              "        document.querySelector('#df-b321f4d1-392d-49a8-88cb-31c05c20df3e button.colab-df-convert');\n",
              "      buttonEl.style.display =\n",
              "        google.colab.kernel.accessAllowed ? 'block' : 'none';\n",
              "\n",
              "      async function convertToInteractive(key) {\n",
              "        const element = document.querySelector('#df-b321f4d1-392d-49a8-88cb-31c05c20df3e');\n",
              "        const dataTable =\n",
              "          await google.colab.kernel.invokeFunction('convertToInteractive',\n",
              "                                                    [key], {});\n",
              "        if (!dataTable) return;\n",
              "\n",
              "        const docLinkHtml = 'Like what you see? Visit the ' +\n",
              "          '<a target=\"_blank\" href=https://colab.research.google.com/notebooks/data_table.ipynb>data table notebook</a>'\n",
              "          + ' to learn more about interactive tables.';\n",
              "        element.innerHTML = '';\n",
              "        dataTable['output_type'] = 'display_data';\n",
              "        await google.colab.output.renderOutput(dataTable, element);\n",
              "        const docLink = document.createElement('div');\n",
              "        docLink.innerHTML = docLinkHtml;\n",
              "        element.appendChild(docLink);\n",
              "      }\n",
              "    </script>\n",
              "  </div>\n",
              "\n",
              "\n",
              "<div id=\"df-bebd9e01-c14b-4ecd-b3a7-6e35eb3621bd\">\n",
              "  <button class=\"colab-df-quickchart\" onclick=\"quickchart('df-bebd9e01-c14b-4ecd-b3a7-6e35eb3621bd')\"\n",
              "            title=\"Suggest charts\"\n",
              "            style=\"display:none;\">\n",
              "\n",
              "<svg xmlns=\"http://www.w3.org/2000/svg\" height=\"24px\"viewBox=\"0 0 24 24\"\n",
              "     width=\"24px\">\n",
              "    <g>\n",
              "        <path d=\"M19 3H5c-1.1 0-2 .9-2 2v14c0 1.1.9 2 2 2h14c1.1 0 2-.9 2-2V5c0-1.1-.9-2-2-2zM9 17H7v-7h2v7zm4 0h-2V7h2v10zm4 0h-2v-4h2v4z\"/>\n",
              "    </g>\n",
              "</svg>\n",
              "  </button>\n",
              "\n",
              "<style>\n",
              "  .colab-df-quickchart {\n",
              "      --bg-color: #E8F0FE;\n",
              "      --fill-color: #1967D2;\n",
              "      --hover-bg-color: #E2EBFA;\n",
              "      --hover-fill-color: #174EA6;\n",
              "      --disabled-fill-color: #AAA;\n",
              "      --disabled-bg-color: #DDD;\n",
              "  }\n",
              "\n",
              "  [theme=dark] .colab-df-quickchart {\n",
              "      --bg-color: #3B4455;\n",
              "      --fill-color: #D2E3FC;\n",
              "      --hover-bg-color: #434B5C;\n",
              "      --hover-fill-color: #FFFFFF;\n",
              "      --disabled-bg-color: #3B4455;\n",
              "      --disabled-fill-color: #666;\n",
              "  }\n",
              "\n",
              "  .colab-df-quickchart {\n",
              "    background-color: var(--bg-color);\n",
              "    border: none;\n",
              "    border-radius: 50%;\n",
              "    cursor: pointer;\n",
              "    display: none;\n",
              "    fill: var(--fill-color);\n",
              "    height: 32px;\n",
              "    padding: 0;\n",
              "    width: 32px;\n",
              "  }\n",
              "\n",
              "  .colab-df-quickchart:hover {\n",
              "    background-color: var(--hover-bg-color);\n",
              "    box-shadow: 0 1px 2px rgba(60, 64, 67, 0.3), 0 1px 3px 1px rgba(60, 64, 67, 0.15);\n",
              "    fill: var(--button-hover-fill-color);\n",
              "  }\n",
              "\n",
              "  .colab-df-quickchart-complete:disabled,\n",
              "  .colab-df-quickchart-complete:disabled:hover {\n",
              "    background-color: var(--disabled-bg-color);\n",
              "    fill: var(--disabled-fill-color);\n",
              "    box-shadow: none;\n",
              "  }\n",
              "\n",
              "  .colab-df-spinner {\n",
              "    border: 2px solid var(--fill-color);\n",
              "    border-color: transparent;\n",
              "    border-bottom-color: var(--fill-color);\n",
              "    animation:\n",
              "      spin 1s steps(1) infinite;\n",
              "  }\n",
              "\n",
              "  @keyframes spin {\n",
              "    0% {\n",
              "      border-color: transparent;\n",
              "      border-bottom-color: var(--fill-color);\n",
              "      border-left-color: var(--fill-color);\n",
              "    }\n",
              "    20% {\n",
              "      border-color: transparent;\n",
              "      border-left-color: var(--fill-color);\n",
              "      border-top-color: var(--fill-color);\n",
              "    }\n",
              "    30% {\n",
              "      border-color: transparent;\n",
              "      border-left-color: var(--fill-color);\n",
              "      border-top-color: var(--fill-color);\n",
              "      border-right-color: var(--fill-color);\n",
              "    }\n",
              "    40% {\n",
              "      border-color: transparent;\n",
              "      border-right-color: var(--fill-color);\n",
              "      border-top-color: var(--fill-color);\n",
              "    }\n",
              "    60% {\n",
              "      border-color: transparent;\n",
              "      border-right-color: var(--fill-color);\n",
              "    }\n",
              "    80% {\n",
              "      border-color: transparent;\n",
              "      border-right-color: var(--fill-color);\n",
              "      border-bottom-color: var(--fill-color);\n",
              "    }\n",
              "    90% {\n",
              "      border-color: transparent;\n",
              "      border-bottom-color: var(--fill-color);\n",
              "    }\n",
              "  }\n",
              "</style>\n",
              "\n",
              "  <script>\n",
              "    async function quickchart(key) {\n",
              "      const quickchartButtonEl =\n",
              "        document.querySelector('#' + key + ' button');\n",
              "      quickchartButtonEl.disabled = true;  // To prevent multiple clicks.\n",
              "      quickchartButtonEl.classList.add('colab-df-spinner');\n",
              "      try {\n",
              "        const charts = await google.colab.kernel.invokeFunction(\n",
              "            'suggestCharts', [key], {});\n",
              "      } catch (error) {\n",
              "        console.error('Error during call to suggestCharts:', error);\n",
              "      }\n",
              "      quickchartButtonEl.classList.remove('colab-df-spinner');\n",
              "      quickchartButtonEl.classList.add('colab-df-quickchart-complete');\n",
              "    }\n",
              "    (() => {\n",
              "      let quickchartButtonEl =\n",
              "        document.querySelector('#df-bebd9e01-c14b-4ecd-b3a7-6e35eb3621bd button');\n",
              "      quickchartButtonEl.style.display =\n",
              "        google.colab.kernel.accessAllowed ? 'block' : 'none';\n",
              "    })();\n",
              "  </script>\n",
              "</div>\n",
              "\n",
              "    </div>\n",
              "  </div>\n"
            ],
            "application/vnd.google.colaboratory.intrinsic+json": {
              "type": "dataframe",
              "summary": "{\n  \"name\": \"              'recall':recall,'cost': cost})\",\n  \"rows\": 7,\n  \"fields\": [\n    {\n      \"column\": \"model\",\n      \"properties\": {\n        \"dtype\": \"string\",\n        \"num_unique_values\": 7,\n        \"samples\": [\n          \"RandomForestClassifier\",\n          \"LGBMClassifier\",\n          \"SVC\"\n        ],\n        \"semantic_type\": \"\",\n        \"description\": \"\"\n      }\n    },\n    {\n      \"column\": \"F1-Score\",\n      \"properties\": {\n        \"dtype\": \"number\",\n        \"std\": 0.016654634458265035,\n        \"min\": 0.8198226360646019,\n        \"max\": 0.8620869887325388,\n        \"num_unique_values\": 7,\n        \"samples\": [\n          0.8620869887325388,\n          0.8615031090717833,\n          0.8342497196999012\n        ],\n        \"semantic_type\": \"\",\n        \"description\": \"\"\n      }\n    },\n    {\n      \"column\": \"precision\",\n      \"properties\": {\n        \"dtype\": \"number\",\n        \"std\": 0.023945078063145813,\n        \"min\": 0.8070679878727688,\n        \"max\": 0.8767722734618275,\n        \"num_unique_values\": 7,\n        \"samples\": [\n          0.8767722734618275,\n          0.8680547848029722,\n          0.8449455994209718\n        ],\n        \"semantic_type\": \"\",\n        \"description\": \"\"\n      }\n    },\n    {\n      \"column\": \"recall\",\n      \"properties\": {\n        \"dtype\": \"number\",\n        \"std\": 0.022417373192491423,\n        \"min\": 0.7958536074922827,\n        \"max\": 0.8552712813268457,\n        \"num_unique_values\": 7,\n        \"samples\": [\n          0.8458562235127924,\n          0.8552660492858264,\n          0.8241432532831057\n        ],\n        \"semantic_type\": \"\",\n        \"description\": \"\"\n      }\n    },\n    {\n      \"column\": \"cost\",\n      \"properties\": {\n        \"dtype\": \"number\",\n        \"std\": 8699,\n        \"min\": 3276,\n        \"max\": 24350,\n        \"num_unique_values\": 7,\n        \"samples\": [\n          3611,\n          3276,\n          24350\n        ],\n        \"semantic_type\": \"\",\n        \"description\": \"\"\n      }\n    }\n  ]\n}"
            }
          },
          "metadata": {},
          "execution_count": 24
        }
      ]
    },
    {
      "cell_type": "markdown",
      "source": [
        "## Otimização de Hiperparâmetros - XBGClassifier\n",
        "\n",
        "Optamos esse modelo por possuir um conjunto de hiperparâmetros mais robustos para otimização.\n",
        "\n",
        "Nosso Objetivo através da otimização é conseguir um resultado superior ao apresentado anteriormente pelo nosso modelo *Baseline* de RandomForest"
      ],
      "metadata": {
        "id": "y9tlLM7jNIxz"
      }
    },
    {
      "cell_type": "markdown",
      "source": [
        "Começamos com a padronização do nosso dataset, e em seguida otimizaremos o hiperparâmetro `n_estimators`"
      ],
      "metadata": {
        "id": "73PfgggTGvxD"
      }
    },
    {
      "cell_type": "code",
      "source": [
        "scaler = StandardScaler().fit(x_train)\n",
        "x_train = scaler.transform(x_train)"
      ],
      "metadata": {
        "id": "hVJyHCzClP-P"
      },
      "execution_count": null,
      "outputs": []
    },
    {
      "cell_type": "code",
      "source": [
        "xgb = XGBClassifier(learning_rate = 0.1)\n",
        "\n",
        "param_grid = {\n",
        "    'n_estimators':range(0,1000,50)\n",
        "}\n",
        "\n",
        "kfold = StratifiedKFold(n_splits=10, shuffle=True)\n",
        "grid_search = GridSearchCV(xgb, param_grid, cv=kfold, scoring='recall', n_jobs=-1)\n",
        "grid_search.fit(x_train, y_train)\n",
        "\n",
        "print('Melhor: {} para {}'.format(grid_search.best_score_, grid_search.best_params_))"
      ],
      "metadata": {
        "colab": {
          "base_uri": "https://localhost:8080/"
        },
        "id": "fELSyOz-L8sv",
        "outputId": "bf9741e0-8886-43b6-d8a1-b0bb296c6e58"
      },
      "execution_count": null,
      "outputs": [
        {
          "output_type": "stream",
          "name": "stdout",
          "text": [
            "Melhor: 0.876207946493396 para {'n_estimators': 50}\n"
          ]
        }
      ]
    },
    {
      "cell_type": "markdown",
      "source": [
        "Com o número de estimadores igual a 50, realizaremos a busca pelos parâmtros `max_depth` e `min_child_weight`."
      ],
      "metadata": {
        "id": "kc4yAT34jJPj"
      }
    },
    {
      "cell_type": "code",
      "source": [
        "xgb = XGBClassifier(learning_rate = 0.1, n_estimators=50)\n",
        "\n",
        "param_grid = {\n",
        "    'max_depth':range(1,15,1),\n",
        "    'min_child_weight':range(1,10,1)\n",
        "}\n",
        "\n",
        "kfold = StratifiedKFold(n_splits=10, shuffle=True)\n",
        "grid_search = GridSearchCV(xgb, param_grid, cv=kfold, scoring='recall', n_jobs=-1)\n",
        "grid_result = grid_search.fit(x_train, y_train)\n",
        "\n",
        "print('Melhor: {} para {}'.format(grid_result.best_score_, grid_result.best_params_))"
      ],
      "metadata": {
        "colab": {
          "base_uri": "https://localhost:8080/"
        },
        "id": "PiXtDdIxPeen",
        "outputId": "e4b67c8d-316b-4b7e-db94-256a7ff7fbc4"
      },
      "execution_count": null,
      "outputs": [
        {
          "output_type": "stream",
          "name": "stdout",
          "text": [
            "Melhor: 0.8943123761860079 para {'max_depth': 5, 'min_child_weight': 7}\n"
          ]
        }
      ]
    },
    {
      "cell_type": "markdown",
      "source": [
        "Obtidos os valores de `max_depth=5` e `min_child_weight=7`, iremos otimizar o parâmetro `gamma`."
      ],
      "metadata": {
        "id": "NaeTwFqpjNg6"
      }
    },
    {
      "cell_type": "code",
      "source": [
        "xgb = XGBClassifier(learning_rate=0.1, n_estimators=50, max_depth=5, min_child_weight=7)\n",
        "\n",
        "param_grid = {\n",
        " 'gamma':[i/10.0 for i in range(0,5)]\n",
        "}\n",
        "\n",
        "kfold = StratifiedKFold(n_splits=10, shuffle=True)\n",
        "grid_search = GridSearchCV(xgb, param_grid, scoring=\"recall\", n_jobs=-1, cv=kfold)\n",
        "grid_result = grid_search.fit(x_train, y_train)\n",
        "\n",
        "print(\"Melhor: {} para {}\".format(grid_result.best_score_, grid_result.best_params_))"
      ],
      "metadata": {
        "colab": {
          "base_uri": "https://localhost:8080/"
        },
        "id": "cw71Xz3sjF_z",
        "outputId": "d2bb5adf-000e-4ea6-ac04-d1199c2810c5"
      },
      "execution_count": null,
      "outputs": [
        {
          "output_type": "stream",
          "name": "stdout",
          "text": [
            "Melhor: 0.8914659576686477 para {'gamma': 0.2}\n"
          ]
        }
      ]
    },
    {
      "cell_type": "markdown",
      "source": [
        "Obtido o valor de `gamma=0.2`, iremos otimizar o parâmetro `learning_rate`"
      ],
      "metadata": {
        "id": "dY5AtgHFkw9N"
      }
    },
    {
      "cell_type": "code",
      "source": [
        "xgb = XGBClassifier(learning_rate=0.1, n_estimators=50, max_depth=6, min_child_weight=6, gamma = 0.2)\n",
        "\n",
        "param_grid = {\n",
        " 'learning_rate':[0.001, 0.01, 0.1, 1]\n",
        "}\n",
        "\n",
        "kfold = StratifiedKFold(n_splits=10, shuffle=True)\n",
        "grid_search = GridSearchCV(xgb, param_grid, scoring=\"recall\", n_jobs=-1, cv=kfold)\n",
        "grid_result = grid_search.fit(x_train, y_train)\n",
        "\n",
        "print(\"Melhor: {} para {}\".format(grid_result.best_score_, grid_result.best_params_))"
      ],
      "metadata": {
        "colab": {
          "base_uri": "https://localhost:8080/"
        },
        "id": "45tspRtWkkss",
        "outputId": "a6575352-b148-486a-c291-0ef32f7ac57d"
      },
      "execution_count": null,
      "outputs": [
        {
          "output_type": "stream",
          "name": "stdout",
          "text": [
            "Melhor: 0.876876462003146 para {'learning_rate': 0.1}\n"
          ]
        }
      ]
    },
    {
      "cell_type": "markdown",
      "source": [
        "Após otimizar alguns hiperparâmetros, vamos verificar o resultado obtido por nosso modelo e comparar com nosso Baseline."
      ],
      "metadata": {
        "id": "_0H4qT8lk4-5"
      }
    },
    {
      "cell_type": "markdown",
      "source": [
        "Ao analisar o relatório, podemos ver que o nosso modelo apresenta um Recall de 100%, o que não é algo bom. Através da matriz de confusão, podemos ver o problema do modelo. Todas as previsões que o modelo fez foi considerando o cliente como **Churn**. Para uma classificação como esta não há necessidade de criação de um modelo, basta considerar que todos são **Churn** e em algum momento irá acertar."
      ],
      "metadata": {
        "id": "mqSYBqgvlKHq"
      }
    },
    {
      "cell_type": "code",
      "source": [
        "# modelo final\n",
        "xgb = XGBClassifier(learning_rate=0.1 , n_estimators=50, max_depth=6, min_child_weight=6, gamma=0.02)\n",
        "xgb.fit(x_train, y_train)\n",
        "\n",
        "# fazer a previsão\n",
        "X_test = scaler.transform(x_test)\n",
        "y_pred = xgb.predict(x_test)\n",
        "\n",
        "# Classification Report\n",
        "print(classification_report(y_test, y_pred, zero_division=1.0))\n",
        "\n",
        "# imprimir a área sob a curva\n",
        "print(\"AUC: {:.4f}\\n\".format(roc_auc_score(y_test, y_pred)))\n",
        "\n",
        "# plotar matriz de confusão\n",
        "cm = confusion_matrix(y_test, y_pred, labels = xgb.classes_)\n",
        "disp = ConfusionMatrixDisplay(confusion_matrix = cm, display_labels = xgb.classes_)\n",
        "disp.plot(cmap='Blues')\n",
        "plt.grid(False)\n",
        "plt.show();"
      ],
      "metadata": {
        "colab": {
          "base_uri": "https://localhost:8080/",
          "height": 644
        },
        "id": "z7BLdI87k5Rq",
        "outputId": "0f4f2c5c-3ebe-4d11-9801-897fb8e5a485"
      },
      "execution_count": null,
      "outputs": [
        {
          "output_type": "stream",
          "name": "stdout",
          "text": [
            "              precision    recall  f1-score   support\n",
            "\n",
            "           0       1.00      0.00      0.00      1274\n",
            "           1       0.28      1.00      0.43       487\n",
            "\n",
            "    accuracy                           0.28      1761\n",
            "   macro avg       0.64      0.50      0.22      1761\n",
            "weighted avg       0.80      0.28      0.12      1761\n",
            "\n",
            "AUC: 0.5000\n",
            "\n"
          ]
        },
        {
          "output_type": "display_data",
          "data": {
            "text/plain": [
              "<Figure size 640x480 with 2 Axes>"
            ],
            "image/png": "[encoded data removed]"
          },
          "metadata": {}
        }
      ]
    },
    {
      "cell_type": "markdown",
      "source": [
        "## Otimização de Hiperparâmetros - RandomForestClassifier\n",
        "\n",
        "Com base nos resultados obtidos no modelo anterior, resolvemos criar um novo modelo, com base no nosso modelo Baseline, haja visto que além do modelo anterior não ser um bom modelo, ele também não obteve resultados superiores ao do Baseline.\n"
      ],
      "metadata": {
        "id": "QYhB5HuOrx9U"
      }
    },
    {
      "cell_type": "markdown",
      "source": [
        "Fizemos 3 versões desse modelo, utilizando como `scoring`:\n",
        "* Recall\n",
        "* F1-Score\n",
        "* Precision\n",
        "\n",
        "Optamos por seguir no modelo utilizando **Precision** pois foi o único que nos apresentou um bom equilibrio entre as previsões e os dados reais, com um resultado menos parecido com um Overfit.\n",
        "\n",
        "O hiperparâmetro `n_estimators` padrão do RandomForest é 100, deixaremos explicito para entendermos com quais parâmetros estamos trabalhando durante a otimização.\n",
        "\n",
        "Vamos começar otimizando `max_depth` e `min_samples_leaf`"
      ],
      "metadata": {
        "id": "TtBHc_iem09g"
      }
    },
    {
      "cell_type": "code",
      "source": [
        "rf = RandomForestClassifier(n_estimators=100)\n",
        "\n",
        "params_grid = {\n",
        "    'max_depth': [5,10,20],\n",
        "    'min_samples_leaf': [5,10,20,50,100,200]\n",
        "}\n",
        "\n",
        "kfold = StratifiedKFold(n_splits=10, shuffle=True)\n",
        "grid_search = GridSearchCV(rf, params_grid, cv=kfold, scoring='precision', n_jobs=-1)\n",
        "grid_search.fit(x_train, y_train)\n",
        "\n",
        "print('Melhor: {} para {}'.format(grid_search.best_score_, grid_search.best_params_))"
      ],
      "metadata": {
        "colab": {
          "base_uri": "https://localhost:8080/"
        },
        "id": "T8TYIBpTw9Zi",
        "outputId": "351cb35c-adcb-4a8a-dc93-5e7353acd2eb"
      },
      "execution_count": null,
      "outputs": [
        {
          "output_type": "stream",
          "name": "stdout",
          "text": [
            "Melhor: 0.9351287592763218 para {'max_depth': 20, 'min_samples_leaf': 200}\n"
          ]
        }
      ]
    },
    {
      "cell_type": "markdown",
      "source": [
        "Obtido os valores de `max_depth=20` e `min_samples_leaf=200`, iremos otimizar o `criterion`"
      ],
      "metadata": {
        "id": "t1TcOLLwrOso"
      }
    },
    {
      "cell_type": "code",
      "source": [
        "rf = RandomForestClassifier(n_estimators=100, max_depth=20, min_samples_leaf=200)\n",
        "\n",
        "params_grid = {\n",
        "    'criterion': ['gini', 'entropy', 'log_loss']\n",
        "}\n",
        "\n",
        "kfold = StratifiedKFold(n_splits=10, shuffle=True)\n",
        "grid_search = GridSearchCV(rf, params_grid, cv=kfold, scoring='precision', n_jobs=-1)\n",
        "grid_search.fit(x_train, y_train)\n",
        "\n",
        "print('Melhor: {} para {}'.format(grid_search.best_score_, grid_search.best_params_))"
      ],
      "metadata": {
        "colab": {
          "base_uri": "https://localhost:8080/"
        },
        "id": "nXx-c6pmaL7d",
        "outputId": "59de36fe-c9da-4189-cfb6-f752686e50f5"
      },
      "execution_count": null,
      "outputs": [
        {
          "output_type": "stream",
          "name": "stdout",
          "text": [
            "Melhor: 0.9349252875051413 para {'criterion': 'gini'}\n"
          ]
        }
      ]
    },
    {
      "cell_type": "markdown",
      "source": [
        "Obtido o valor de `criterion = gini`, iremos otimizar `n_estimator`"
      ],
      "metadata": {
        "id": "8eBushzurjYg"
      }
    },
    {
      "cell_type": "code",
      "source": [
        "rf = RandomForestClassifier(max_depth=20, min_samples_leaf=200, criterion='gini')\n",
        "\n",
        "params_grid = {\n",
        "    'n_estimators': range(10,1000,50)\n",
        "}\n",
        "\n",
        "kfold = StratifiedKFold(n_splits=10, shuffle=True)\n",
        "grid_search = GridSearchCV(rf, params_grid, cv=kfold, scoring='precision', n_jobs=-1)\n",
        "grid_search.fit(x_train, y_train)\n",
        "\n",
        "print('Melhor: {} para {}'.format(grid_search.best_score_, grid_search.best_params_))"
      ],
      "metadata": {
        "colab": {
          "base_uri": "https://localhost:8080/"
        },
        "id": "D1-8GlKGr2_Q",
        "outputId": "184335b6-0b9a-41ea-a4bd-ce961c80bf5c"
      },
      "execution_count": null,
      "outputs": [
        {
          "output_type": "stream",
          "name": "stdout",
          "text": [
            "Melhor: 0.9364426230989166 para {'n_estimators': 310}\n"
          ]
        }
      ]
    },
    {
      "cell_type": "code",
      "source": [
        "rf = RandomForestClassifier(n_estimators=310, max_depth=20, min_samples_leaf=200, criterion='gini')\n",
        "\n",
        "rf.fit(x_train, y_train)\n",
        "y_pred = rf.predict(x_test)\n",
        "\n",
        "print(classification_report(y_test, y_pred, zero_division=1.0))\n",
        "\n",
        "print(cross_val_score(rf, x_test, y_test, scoring='precision').mean())\n",
        "\n",
        "ConfusionMatrixDisplay.from_estimator(rf,x_test,y_test, cmap='Blues')\n",
        "plt.grid(False)\n",
        "plt.show();"
      ],
      "metadata": {
        "colab": {
          "base_uri": "https://localhost:8080/",
          "height": 696
        },
        "id": "cc_0jp9WcnQO",
        "outputId": "4976b628-15a2-44cf-e779-1b12797f87ab"
      },
      "execution_count": null,
      "outputs": [
        {
          "output_type": "stream",
          "name": "stderr",
          "text": [
            "/usr/local/lib/python3.10/dist-packages/sklearn/base.py:458: UserWarning: X has feature names, but RandomForestClassifier was fitted without feature names\n",
            "  warnings.warn(\n"
          ]
        },
        {
          "output_type": "stream",
          "name": "stdout",
          "text": [
            "              precision    recall  f1-score   support\n",
            "\n",
            "           0       0.93      0.59      0.72      1274\n",
            "           1       0.45      0.89      0.60       487\n",
            "\n",
            "    accuracy                           0.67      1761\n",
            "   macro avg       0.69      0.74      0.66      1761\n",
            "weighted avg       0.80      0.67      0.69      1761\n",
            "\n",
            "0.9739495798319329\n"
          ]
        },
        {
          "output_type": "stream",
          "name": "stderr",
          "text": [
            "/usr/local/lib/python3.10/dist-packages/sklearn/base.py:458: UserWarning: X has feature names, but RandomForestClassifier was fitted without feature names\n",
            "  warnings.warn(\n"
          ]
        },
        {
          "output_type": "display_data",
          "data": {
            "text/plain": [
              "<Figure size 640x480 with 2 Axes>"
            ],
            "image/png": "[encoded data removed]"
          },
          "metadata": {}
        }
      ]
    },
    {
      "cell_type": "markdown",
      "source": [
        "# Conclusão"
      ],
      "metadata": {
        "id": "WEYuR6m1lNA5"
      }
    },
    {
      "cell_type": "markdown",
      "source": [
        "Mesmo com a otimização dos hiperparâmetros, o modelo XGBClassifier não conseguiu perfomar melhor que o modelo Baseline, além de apresentar um Overfit, classificando todos os dados da base teste como Churn. Testamos outras abordagens para o métrica de avaliação da validação cruzada, como F1-Score e Precision, porém mesmo assim o XGBClassifier continuo apresentando um Recall em 100%, Sobreajustando o modelo.\n",
        "\n",
        "Quando utilizamos a mesma abordagem no RandomForestClassifier, também tivemos um Overfit do modelo, classificando todos como Churn. Então, resolvemos mudar a abordagem e utilizamos Precision. Mesmo Precision não sendo a melhor métrica para esse tipo de modelo, pois estamos preocupados com os *True Positives* e *False Negatives* - Recall, Precision foi a métrica a qual não apresentou o Overfit - sobreajuste.\n",
        "\n",
        "Existem outras modelos e ajustes que poderemos fazer - e serão feitos futuramente - para tentarmos melhorar o Recall do nosso modelo, aumentando os *True Negatives* e reduzindo os *False Positives*.\n",
        "\n",
        "Sabemos que um False Positive não possui um impacto tão grande na receita, porém não podemos classifica-los erroneamente, pois uma vez que identificamos um possivel Churn, diversas medidas serão tomadas com esse cliente para evitar o Churn, gerando custos e até mesmo promoções para um cliente que não seria Churn, reduzindo a receita."
      ],
      "metadata": {
        "id": "kMnbi99ktnkQ"
      }
    }
  ]
}